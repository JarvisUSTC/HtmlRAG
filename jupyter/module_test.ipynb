{
 "cells": [
  {
   "cell_type": "code",
   "id": "initial_id",
   "metadata": {
    "collapsed": true,
    "ExecuteTime": {
     "end_time": "2024-11-06T06:49:10.896569Z",
     "start_time": "2024-11-06T06:49:10.685326Z"
    }
   },
   "source": [
    "import sys\n",
    "sys.path.append('..')\n",
    "from HtmlRAG import clean_html\n",
    "\n",
    "question=\"When was the bellagio in las vegas built?\"\n",
    "html=\"\"\"\n",
    "<html>\n",
    "<head>\n",
    "<title>When was the bellagio in las vegas built?</title>\n",
    "</head>\n",
    "<body>\n",
    "<p class=\"class0\">The Bellagio is a luxury hotel and casino located on the Las Vegas Strip in Paradise, Nevada. It was built in 1998.</p>\n",
    "</body>\n",
    "<div>\n",
    "<div>\n",
    "<p>Some other text</p>\n",
    "<p>Some other text</p>\n",
    "</div>\n",
    "</div>\n",
    "<p class=\"class1\"></p>\n",
    "<!-- Some comment -->\n",
    "<script type=\"text/javascript\">\n",
    "document.write(\"Hello World!\");\n",
    "</script>\n",
    "</html>\n",
    "\"\"\"\n",
    "\n",
    "\n",
    "simplified_html = clean_html(html)\n",
    "print(simplified_html)\n",
    "\n",
    "\n",
    "# <html>\n",
    "# <title>When was the bellagio in las vegas built?</title>\n",
    "# <p>The Bellagio is a luxury hotel and casino located on the Las Vegas Strip in Paradise, Nevada. It was built in 1998.</p>\n",
    "# <div>\n",
    "# <p>Some other text</p>\n",
    "# <p>Some other text</p>\n",
    "# </div>\n",
    "# </html>"
   ],
   "outputs": [
    {
     "ename": "ModuleNotFoundError",
     "evalue": "No module named 'HtmlRAG'",
     "output_type": "error",
     "traceback": [
      "\u001B[0;31m---------------------------------------------------------------------------\u001B[0m",
      "\u001B[0;31mModuleNotFoundError\u001B[0m                       Traceback (most recent call last)",
      "Cell \u001B[0;32mIn[1], line 3\u001B[0m\n\u001B[1;32m      1\u001B[0m \u001B[38;5;28;01mimport\u001B[39;00m \u001B[38;5;21;01msys\u001B[39;00m\n\u001B[1;32m      2\u001B[0m sys\u001B[38;5;241m.\u001B[39mpath\u001B[38;5;241m.\u001B[39mappend(\u001B[38;5;124m'\u001B[39m\u001B[38;5;124m..\u001B[39m\u001B[38;5;124m'\u001B[39m)\n\u001B[0;32m----> 3\u001B[0m \u001B[38;5;28;01mfrom\u001B[39;00m \u001B[38;5;21;01mHtmlRAG\u001B[39;00m \u001B[38;5;28;01mimport\u001B[39;00m clean_html\n\u001B[1;32m      5\u001B[0m question\u001B[38;5;241m=\u001B[39m\u001B[38;5;124m\"\u001B[39m\u001B[38;5;124mWhen was the bellagio in las vegas built?\u001B[39m\u001B[38;5;124m\"\u001B[39m\n\u001B[1;32m      6\u001B[0m html\u001B[38;5;241m=\u001B[39m\u001B[38;5;124m\"\"\"\u001B[39m\n\u001B[1;32m      7\u001B[0m \u001B[38;5;124m<html>\u001B[39m\n\u001B[1;32m      8\u001B[0m \u001B[38;5;124m<head>\u001B[39m\n\u001B[0;32m   (...)\u001B[0m\n\u001B[1;32m     25\u001B[0m \u001B[38;5;124m</html>\u001B[39m\n\u001B[1;32m     26\u001B[0m \u001B[38;5;124m\"\"\"\u001B[39m\n",
      "\u001B[0;31mModuleNotFoundError\u001B[0m: No module named 'HtmlRAG'"
     ]
    }
   ],
   "execution_count": 1
  },
  {
   "cell_type": "code",
   "execution_count": 2,
   "id": "3f8ffa70160a7e1e",
   "metadata": {
    "ExecuteTime": {
     "end_time": "2024-10-20T05:33:10.038172Z",
     "start_time": "2024-10-20T05:33:10.033633Z"
    }
   },
   "outputs": [
    {
     "name": "stdout",
     "output_type": "stream",
     "text": [
      "Block Content:  <title>When was the bellagio in las vegas built?</title>\n",
      "Block Path:  ['html', 'title']\n",
      "Is Leaf:  True\n",
      "\n",
      "Block Content:  <div>\n",
      "<p>Some other text</p>\n",
      "<p>Some other text</p>\n",
      "</div>\n",
      "Block Path:  ['html', 'div']\n",
      "Is Leaf:  True\n",
      "\n",
      "Block Content:  <p>The Bellagio is a luxury hotel and casino located on the Las Vegas Strip in Paradise, Nevada. It was built in 1998.</p>\n",
      "Block Path:  ['html', 'p']\n",
      "Is Leaf:  True\n",
      "\n"
     ]
    }
   ],
   "source": [
    "from HtmlRAG import build_block_tree\n",
    "\n",
    "# if you have mutiple HTML documents, merge them using the following code\n",
    "# simplified_html = \"\\n\".join([clean_html(html) for html in htmls])\n",
    "block_tree, simplified_html=build_block_tree(simplified_html, max_node_words=10)\n",
    "for block in block_tree:\n",
    "    print(\"Block Content: \", block[0])\n",
    "    print(\"Block Path: \", block[1])\n",
    "    print(\"Is Leaf: \", block[2])\n",
    "    print(\"\")\n",
    "\n",
    "# Block Content:  <title>When was the bellagio in las vegas built?</title>\n",
    "# Block Path:  ['html', 'title']\n",
    "# Is Leaf:  True\n",
    "# \n",
    "# Block Content:  <div>\n",
    "# <p>Some other text</p>\n",
    "# <p>Some other text</p>\n",
    "# </div>\n",
    "# Block Path:  ['html', 'div']\n",
    "# Is Leaf:  True\n",
    "# \n",
    "# Block Content:  <p>The Bellagio is a luxury hotel and casino located on the Las Vegas Strip in Paradise, Nevada. It was built in 1998.</p>\n",
    "# Block Path:  ['html', 'p']\n",
    "# Is Leaf:  True\n"
   ]
  },
  {
   "cell_type": "code",
   "execution_count": 3,
   "id": "4d0bbbcaf2591ea",
   "metadata": {
    "ExecuteTime": {
     "end_time": "2024-10-20T05:33:10.471693Z",
     "start_time": "2024-10-20T05:33:10.388591Z"
    }
   },
   "outputs": [
    {
     "name": "stdout",
     "output_type": "stream",
     "text": [
      "[0, 2, 1]\n"
     ]
    }
   ],
   "source": [
    "from HtmlRAG import EmbedHTMLPruner\n",
    "\n",
    "embed_html_pruner = EmbedHTMLPruner(embed_model=\"bm25\")\n",
    "block_rankings=embed_html_pruner.calculate_block_rankings(question, simplified_html, block_tree)\n",
    "print(block_rankings)"
   ]
  },
  {
   "cell_type": "code",
   "execution_count": 4,
   "id": "afbafc34270542e1",
   "metadata": {
    "ExecuteTime": {
     "end_time": "2024-10-20T05:33:11.159158Z",
     "start_time": "2024-10-20T05:33:10.554431Z"
    }
   },
   "outputs": [
    {
     "name": "stdout",
     "output_type": "stream",
     "text": [
      "<html>\n",
      "<title>When was the bellagio in las vegas built?</title>\n",
      "<p>The Bellagio is a luxury hotel and casino located on the Las Vegas Strip in Paradise, Nevada. It was built in 1998.</p>\n",
      "</html>\n"
     ]
    }
   ],
   "source": [
    "from transformers import AutoTokenizer\n",
    "chat_tokenizer=AutoTokenizer.from_pretrained(\"../../../huggingface/Meta-Llama-3.1-70B-Instruct\")\n",
    "\n",
    "max_context_window=60\n",
    "pruned_html=embed_html_pruner.prune_HTML(simplified_html, block_tree, block_rankings, chat_tokenizer, max_context_window)\n",
    "print(pruned_html)\n",
    "\n",
    "# <html>\n",
    "# <title>When was the bellagio in las vegas built?</title>\n",
    "# <p>The Bellagio is a luxury hotel and casino located on the Las Vegas Strip in Paradise, Nevada. It was built in 1998.</p>\n",
    "# </html>"
   ]
  },
  {
   "cell_type": "code",
   "execution_count": 5,
   "id": "cca8ad3a055e894a",
   "metadata": {
    "ExecuteTime": {
     "end_time": "2024-10-20T05:33:11.290907Z",
     "start_time": "2024-10-20T05:33:11.286782Z"
    }
   },
   "outputs": [
    {
     "name": "stdout",
     "output_type": "stream",
     "text": [
      "Block Content:  <title>When was the bellagio in las vegas built?</title>\n",
      "Block Path:  ['html', 'title']\n",
      "Is Leaf:  True\n",
      "\n",
      "Block Content:  <p>The Bellagio is a luxury hotel and casino located on the Las Vegas Strip in Paradise, Nevada. It was built in 1998.</p>\n",
      "Block Path:  ['html', 'p']\n",
      "Is Leaf:  True\n",
      "\n"
     ]
    }
   ],
   "source": [
    "block_tree, pruned_html=build_block_tree(pruned_html, max_node_words=10)\n",
    "for block in block_tree:\n",
    "    print(\"Block Content: \", block[0])\n",
    "    print(\"Block Path: \", block[1])\n",
    "    print(\"Is Leaf: \", block[2])\n",
    "    print(\"\")\n",
    "    \n",
    "# Block Content:  <title>When was the bellagio in las vegas built?</title>\n",
    "# Block Path:  ['html', 'title']\n",
    "# Is Leaf:  True\n",
    "# \n",
    "# Block Content:  <p>The Bellagio is a luxury hotel and casino located on the Las Vegas Strip in Paradise, Nevada. It was built in 1998.</p>\n",
    "# Block Path:  ['html', 'p']\n",
    "# Is Leaf:  True"
   ]
  },
  {
   "cell_type": "code",
   "execution_count": 11,
   "id": "ee114eda86432376",
   "metadata": {
    "ExecuteTime": {
     "end_time": "2024-10-20T06:00:33.363679Z",
     "start_time": "2024-10-20T05:57:37.024829Z"
    }
   },
   "outputs": [
    {
     "name": "stdout",
     "output_type": "stream",
     "text": [
      "[0, 1]\n"
     ]
    }
   ],
   "source": [
    "from HtmlRAG import GenHTMLPruner\n",
    "\n",
    "ckpt_path = \"../../../model/train-tree-rerank-llama32/v1008/checkpoint-381/\"\n",
    "gen_embed_pruner = GenHTMLPruner(gen_model=ckpt_path, max_node_words=5)\n",
    "block_rankings=gen_embed_pruner.calculate_block_rankings(question, pruned_html, block_tree)\n",
    "print(block_rankings)\n",
    "\n",
    "# [1, 0]"
   ]
  },
  {
   "cell_type": "code",
   "execution_count": 12,
   "id": "8ec9c9e5cfbe1da9",
   "metadata": {
    "ExecuteTime": {
     "end_time": "2024-10-20T06:01:29.123781Z",
     "start_time": "2024-10-20T06:01:29.118308Z"
    }
   },
   "outputs": [
    {
     "name": "stdout",
     "output_type": "stream",
     "text": [
      "<title>When was the bellagio in las vegas built?</title>\n"
     ]
    }
   ],
   "source": [
    "max_context_window=32\n",
    "pruned_html=gen_embed_pruner.prune_HTML(pruned_html, block_tree, block_rankings, chat_tokenizer, max_context_window)\n",
    "print(pruned_html)\n",
    "\n",
    "# <p>The Bellagio is a luxury hotel and casino located on the Las Vegas Strip in Paradise, Nevada. It was built in 1998.</p>"
   ]
  },
  {
   "cell_type": "code",
   "execution_count": 13,
   "id": "31820625549d9182",
   "metadata": {
    "ExecuteTime": {
     "end_time": "2024-10-20T06:01:45.220618Z",
     "start_time": "2024-10-20T06:01:45.213987Z"
    }
   },
   "outputs": [
    {
     "data": {
      "text/plain": [
       "[1, 0]"
      ]
     },
     "execution_count": 13,
     "metadata": {},
     "output_type": "execute_result"
    }
   ],
   "source": [
    "import numpy as np\n",
    "list(np.argsort([1,2])[::-1])"
   ]
  },
  {
   "cell_type": "code",
   "execution_count": null,
   "id": "1d6bcf5600b11388",
   "metadata": {},
   "outputs": [],
   "source": []
  }
 ],
 "metadata": {
  "kernelspec": {
   "display_name": "Python 3",
   "language": "python",
   "name": "python3"
  },
  "language_info": {
   "codemirror_mode": {
    "name": "ipython",
    "version": 2
   },
   "file_extension": ".py",
   "mimetype": "text/x-python",
   "name": "python",
   "nbconvert_exporter": "python",
   "pygments_lexer": "ipython2",
   "version": "2.7.6"
  }
 },
 "nbformat": 4,
 "nbformat_minor": 5
}
