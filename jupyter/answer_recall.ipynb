{
 "cells": [
  {
   "metadata": {
    "ExecuteTime": {
     "end_time": "2024-08-23T03:02:32.039901Z",
     "start_time": "2024-08-23T03:02:31.904497Z"
    }
   },
   "cell_type": "code",
   "source": [
    "import string\n",
    "import re\n",
    "\n",
    "\n",
    "def normalize_answer(s):\n",
    "  \"\"\"Lower text and remove punctuation, articles and extra whitespace.\"\"\"\n",
    "\n",
    "  def remove_articles(text):\n",
    "    return re.sub(r'\\b(a|an|the)\\b', ' ', text)\n",
    "\n",
    "  def white_space_fix(text):\n",
    "    return ' '.join(text.split())\n",
    "\n",
    "  def remove_punc(text):\n",
    "    exclude = set(string.punctuation)\n",
    "    return ''.join(ch for ch in text if ch not in exclude)\n",
    "\n",
    "  def lower(text):\n",
    "    return text.lower()\n",
    "\n",
    "  return white_space_fix(remove_articles(remove_punc(lower(s))))\n",
    "\n",
    "def calculate_short_answer_EM(generated_answer, gold_answers, language=\"en\"):\n",
    "    if isinstance(gold_answers, str):\n",
    "        gold_answers = [gold_answers]\n",
    "    if language == \"en\":\n",
    "        generated_answer=normalize_answer(generated_answer)\n",
    "    else:\n",
    "        pass\n",
    "    match=0\n",
    "    for gold_answer in gold_answers:\n",
    "        gold_answer=normalize_answer(gold_answer)\n",
    "        if gold_answer in generated_answer:\n",
    "            match+=1\n",
    "    return {\n",
    "        \"exact_match\": match/len(gold_answers),\n",
    "        \"hit1\": match>0\n",
    "    }\n",
    "\n",
    "# sample training data\n",
    "import evaluate\n",
    "from collections import defaultdict\n",
    "#  parse gpt4 response\n",
    "import bs4\n",
    "rouge=evaluate.load(\"../evaluate_utils/rouge/\")"
   ],
   "id": "13d077d680895316",
   "outputs": [],
   "execution_count": 42
  },
  {
   "metadata": {
    "ExecuteTime": {
     "end_time": "2024-08-23T03:02:32.310801Z",
     "start_time": "2024-08-23T03:02:32.302096Z"
    }
   },
   "cell_type": "code",
   "source": [
    "from typing import Tuple, List\n",
    "import bs4\n",
    "\n",
    "def split_tree(soup: bs4.BeautifulSoup) -> List[Tuple[bs4.element.Tag, List[str]]]:\n",
    "    word_count = len(soup.get_text().split())\n",
    "    if word_count > 500:\n",
    "        possible_trees = [(soup, [])]\n",
    "        target_trees = []\n",
    "        #  split the entire dom tee into subtrees, until the length of the subtree is less than 500 words\n",
    "        #  find all possible trees\n",
    "        while True:\n",
    "            if len(possible_trees) == 0:\n",
    "                break\n",
    "            tree = possible_trees.pop(0)\n",
    "            tag_children = defaultdict(int)\n",
    "            bare_word_count = 0\n",
    "            #  count child tags\n",
    "            for child in tree[0].contents:\n",
    "                if isinstance(child, bs4.element.Tag):\n",
    "                    tag_children[child.name] += 1\n",
    "            _tag_children = {k: 0 for k in tag_children.keys()}\n",
    "            for child in tree[0].contents:\n",
    "                if isinstance(child, bs4.element.Tag):\n",
    "                    #  change child tag with duplicate names\n",
    "                    if tag_children[child.name] > 1:\n",
    "                        new_name = f\"{child.name}{_tag_children[child.name]}\"\n",
    "                        new_tree = (child, tree[1] + [new_name])\n",
    "                        _tag_children[child.name] += 1\n",
    "                        child.name = new_name\n",
    "                    else:\n",
    "                        new_tree = (child, tree[1] + [child.name])\n",
    "                    word_count = len(child.get_text().split())\n",
    "                    if word_count > 500:\n",
    "                        possible_trees.append(new_tree)\n",
    "                    else:\n",
    "                        target_trees.append(new_tree)\n",
    "                else:\n",
    "                    bare_word_count += len(str(child).split())\n",
    "\n",
    "            #  add node with more than 500 words\n",
    "            if bare_word_count > 500:\n",
    "                target_trees.append(tree)\n",
    "            #  add leaf node\n",
    "            if len(tag_children) == 0:\n",
    "                target_trees.append(tree)\n",
    "    else:\n",
    "        soup_children = [c for c in soup.contents if isinstance(c, bs4.element.Tag)]\n",
    "        if len(soup_children) == 1:\n",
    "            target_trees = [(soup_children[0], [soup_children[0].name])]\n",
    "        else:\n",
    "            # add an html tag to wrap all children\n",
    "            new_soup = bs4.BeautifulSoup(\"\", 'html.parser')\n",
    "            new_tag = new_soup.new_tag(\"html\")\n",
    "            new_soup.append(new_tag)\n",
    "            for child in soup_children:\n",
    "                new_tag.append(child)\n",
    "            target_trees = [(new_tag, [\"html\"])]\n",
    "    return target_trees"
   ],
   "id": "6724a7b8731684da",
   "outputs": [],
   "execution_count": 43
  },
  {
   "metadata": {
    "ExecuteTime": {
     "end_time": "2024-08-23T03:02:33.203319Z",
     "start_time": "2024-08-23T03:02:32.796429Z"
    }
   },
   "cell_type": "code",
   "source": [
    "#  init tokenizer\n",
    "from transformers import AutoTokenizer, AutoModelForCausalLM, AutoModelForSeq2SeqLM\n",
    "\n",
    "ckpt_path=\"../../../huggingface/Baichuan2-7B-Chat/\"\n",
    "tokenizer = AutoTokenizer.from_pretrained(ckpt_path,trust_remote_code=True)\n"
   ],
   "id": "9f4d22559e4f50b4",
   "outputs": [],
   "execution_count": 44
  },
  {
   "metadata": {
    "ExecuteTime": {
     "end_time": "2024-08-23T03:02:39.568464Z",
     "start_time": "2024-08-23T03:02:33.382308Z"
    }
   },
   "cell_type": "code",
   "source": [
    "import json\n",
    "import numpy as np\n",
    "\n",
    "split = \"test\"\n",
    "rewrite_method = \"slimplmqr\"\n",
    "dataset = \"asqa\"\n",
    "version=\"v0715\"\n",
    "search_engine=\"bing\"\n",
    "context_window = \"16k\"\n",
    "\n",
    "ref_file = f\"../html_data/{dataset}/treegen/{version}/{search_engine}html-{rewrite_method}-{version}-{dataset}-{split}-{context_window}.jsonl\"\n",
    "\n",
    "ref_lines = [json.loads(line) for line in open(ref_file, \"r\")]\n",
    "\n",
    "if \"answers\" in ref_lines[0]:\n",
    "    answers = [ref_line['answers'] for ref_line in ref_lines]\n",
    "elif \"short_answers\" in ref_lines[0]:\n",
    "    answers = [ref_line['short_answers'] for ref_line in ref_lines]\n",
    "elif \"answer\" in ref_lines[0]:\n",
    "    answers = [ref_line['answer'] for ref_line in ref_lines]\n",
    "else:\n",
    "    raise NotImplementedError(\"answers not found in ref_lines\")\n"
   ],
   "id": "d22b1d94a11e67d2",
   "outputs": [],
   "execution_count": 45
  },
  {
   "metadata": {
    "ExecuteTime": {
     "end_time": "2024-08-23T03:02:39.576591Z",
     "start_time": "2024-08-23T03:02:39.570463Z"
    }
   },
   "cell_type": "code",
   "source": [
    "idx=83\n",
    "print(ref_lines[idx].keys())\n",
    "#  dict_keys(['qa_pairs', 'wikipages', 'annotations', 'id', 'question', 'answer', 'short_answers', 'long_answers', 'html', 'paths', 'path_token_ids', 'node_tree', 'html_trim'])\n",
    "\n",
    "#  find answer matching paths\n",
    "question = ref_lines[idx][\"question\"]\n",
    "html = ref_lines[idx][\"html\"]\n",
    "html_trim = ref_lines[idx][\"html_trim\"]\n",
    "answer = answers[idx]\n",
    "node_tree=ref_lines[idx][\"node_tree\"]\n",
    "paths=ref_lines[idx][\"paths\"]  \n"
   ],
   "id": "5f60cae70e563898",
   "outputs": [
    {
     "name": "stdout",
     "output_type": "stream",
     "text": [
      "dict_keys(['qa_pairs', 'wikipages', 'annotations', 'id', 'question', 'answer', 'short_answers', 'long_answers', 'html', 'paths', 'path_token_ids', 'node_tree', 'path_divisible', 'html_trim'])\n"
     ]
    }
   ],
   "execution_count": 46
  },
  {
   "metadata": {
    "ExecuteTime": {
     "end_time": "2024-08-23T03:02:39.659277Z",
     "start_time": "2024-08-23T03:02:39.577865Z"
    }
   },
   "cell_type": "code",
   "source": [
    "from langchain_core.documents.base import Document\n",
    "import pathlib\n",
    "import os\n",
    "from tqdm import tqdm\n",
    "from typing import AsyncIterator, Iterator, List, Dict, Optional, Any, cast\n",
    "from langchain_text_splitters import HTMLSectionSplitter\n",
    "\n",
    "def clean_xml(html):\n",
    "    # remove tags starts with <?xml\n",
    "    html = re.sub(r\"<\\?xml.*?>\", \"\", html)\n",
    "    # remove tags starts with <!DOCTYPE\n",
    "    html = re.sub(r\"<!DOCTYPE.*?>\", \"\", html)\n",
    "    return html\n",
    "\n",
    "headers_to_split_on = [\n",
    "    (\"h1\", \"Header 1\"),\n",
    "    (\"h2\", \"Header 2\"),\n",
    "    (\"h3\", \"Header 3\"),\n",
    "    (\"h4\", \"Header 4\"),\n",
    "    (\"body\", \"Body\"),\n",
    "]\n",
    "\n",
    "\n",
    "class HTMLSplitter(HTMLSectionSplitter):\n",
    "    def split_html_by_headers(\n",
    "            self, html_doc: str\n",
    "    ) -> List[Dict[str, Optional[str]]]:\n",
    "        try:\n",
    "            from bs4 import BeautifulSoup, PageElement  # type: ignore[import-untyped]\n",
    "        except ImportError as e:\n",
    "            raise ImportError(\n",
    "                \"Unable to import BeautifulSoup/PageElement, \\\n",
    "                    please install with `pip install \\\n",
    "                    bs4`.\"\n",
    "            ) from e\n",
    "\n",
    "        soup = BeautifulSoup(html_doc, \"html.parser\")\n",
    "        headers = list(self.headers_to_split_on.keys())\n",
    "        sections = []\n",
    "\n",
    "        headers = soup.find_all([\"body\"] + headers)\n",
    "\n",
    "        for i, header in enumerate(headers):\n",
    "            header_element: PageElement = header\n",
    "            if i == 0:\n",
    "                current_header = \"#TITLE#\"\n",
    "                current_header_tag = \"h1\"\n",
    "                section_content: List = []\n",
    "            else:\n",
    "                current_header = header_element.text.strip()\n",
    "                current_header_tag = header_element.name\n",
    "                section_content = []\n",
    "            for element in header_element.next_elements:\n",
    "                if i + 1 < len(headers) and element == headers[i + 1]:\n",
    "                    break\n",
    "                if isinstance(element, str):\n",
    "                    section_content.append(element)\n",
    "            content = \" \".join(section_content).strip()\n",
    "\n",
    "            if content != \"\":\n",
    "                sections.append({\n",
    "                    \"header\": current_header,\n",
    "                    \"content\": content,\n",
    "                    \"tag_name\": current_header_tag,\n",
    "                })\n",
    "\n",
    "        return sections\n",
    "\n",
    "    def split_text_from_file(self, file: Any) -> List[Document]:\n",
    "        \"\"\"Split HTML file\n",
    "\n",
    "        Args:\n",
    "            file: HTML file\n",
    "        \"\"\"\n",
    "        file_content = file.getvalue()\n",
    "        file_content = self.convert_possible_tags_to_header(file_content)\n",
    "        sections = self.split_html_by_headers(file_content)\n",
    "\n",
    "        return [\n",
    "            Document(\n",
    "                cast(str, section[\"content\"]),\n",
    "                metadata={\n",
    "                    self.headers_to_split_on[\n",
    "                        str(section[\"tag_name\"])\n",
    "                    ]: section[\"header\"]\n",
    "                },\n",
    "            )\n",
    "            for section in sections\n",
    "        ]\n",
    "\n",
    "    def convert_possible_tags_to_header(self, html_content: str) -> str:\n",
    "        if self.xslt_path is None:\n",
    "            return html_content\n",
    "\n",
    "        try:\n",
    "            from lxml import etree\n",
    "        except ImportError as e:\n",
    "            raise ImportError(\n",
    "                \"Unable to import lxml, please install with `pip install lxml`.\"\n",
    "            ) from e\n",
    "        # use lxml library to parse html document and return xml ElementTree\n",
    "        parser = etree.HTMLParser()\n",
    "        try:\n",
    "            tree = etree.fromstring(html_content, parser)\n",
    "        except:\n",
    "            open(\"error_html.html\", \"w\").write(html_content)\n",
    "\n",
    "        # document transformation for \"structure-aware\" chunking is handled with xsl.\n",
    "        # this is needed for htmls files that using different font sizes and layouts\n",
    "        # check to see if self.xslt_path is a relative path or absolute path\n",
    "        if not os.path.isabs(self.xslt_path):\n",
    "            xslt_path = pathlib.Path(__file__).parent / self.xslt_path\n",
    "\n",
    "        xslt_tree = etree.parse(\"../html4rag/converting_to_header.xslt\")\n",
    "        transform = etree.XSLT(xslt_tree)\n",
    "        result = transform(tree)\n",
    "        return str(result)\n",
    "\n",
    "\n",
    "html_splitter = HTMLSplitter(headers_to_split_on=headers_to_split_on)"
   ],
   "id": "23137536b33d415e",
   "outputs": [],
   "execution_count": 47
  },
  {
   "metadata": {
    "ExecuteTime": {
     "end_time": "2024-08-23T03:07:54.976420Z",
     "start_time": "2024-08-23T03:02:39.660838Z"
    }
   },
   "cell_type": "code",
   "source": [
    "from tqdm import tqdm\n",
    "import numpy as np\n",
    "import bs4\n",
    "rerank_model=\"bgelargeen\"\n",
    "from collections import defaultdict\n",
    "import multiprocessing\n",
    "\n",
    "processes=[]\n",
    "context_windows=[\"2k\", \"4k\", \"8k\", \"16k\", \"32k\"]\n",
    "versions=[\"v0701\", \"v0715\"]\n",
    "chat_tokenizer=\"llama\"\n",
    "context_window_recalls=multiprocessing.Manager().list([0.0]*(len(context_windows)*len(versions)))\n",
    "\n",
    "def calculate_answer_recall(context_window, version):\n",
    "    reference_format=\"treegen\"\n",
    "    if reference_format in [\"html-trim\"]:\n",
    "        ref_file = f\"../html_data/{dataset}/{search_engine}/{reference_format}/{chat_tokenizer}/{search_engine}html-{rewrite_method}-{rerank_model}-{dataset}-{split}-{context_window}.jsonl\"\n",
    "    elif reference_format in [\"treegen\"]:\n",
    "        ref_file = f\"../html_data/{dataset}/treegen/{version}/{chat_tokenizer}/{search_engine}html-{rewrite_method}-{version}-{dataset}-{split}-{context_window}.jsonl\"\n",
    "    else:\n",
    "        raise NotImplementedError(\"reference_format not found\")\n",
    "    print(f\"ref_file: {ref_file}\")\n",
    "    ref_lines = [json.loads(line) for line in open(ref_file, \"r\")]\n",
    "    \n",
    "    if \"answers\" in ref_lines[0]:\n",
    "        answers = [ref_line['answers'] for ref_line in ref_lines]\n",
    "    elif \"short_answers\" in ref_lines[0]:\n",
    "        answers = [ref_line['short_answers'] for ref_line in ref_lines]\n",
    "    elif \"answer\" in ref_lines[0]:\n",
    "        answers = [ref_line['answer'] for ref_line in ref_lines]\n",
    "    else:\n",
    "        raise NotImplementedError(\"answers not found in ref_lines\")\n",
    "    recall=[]\n",
    "    for idx in tqdm(range(len(ref_lines)), desc=f\"{version}: {context_window}\"):\n",
    "        html=ref_lines[idx][\"html\"]\n",
    "        if reference_format in [\"html-trim\", \"treegen\"]:\n",
    "            html_trim=ref_lines[idx][\"html_trim\"]\n",
    "        elif reference_format in [\"fill-chunk\"]:\n",
    "            html_trim=ref_lines[idx][\"fill-chunk\"]\n",
    "        else:\n",
    "            raise NotImplementedError(\"reference_format not found\")\n",
    "        answer=answers[idx]\n",
    "        # token_html = tokenizer.tokenize(html)\n",
    "        # token_html_trim = tokenizer.tokenize(html_trim)\n",
    "        # print(f\"length of token_html: {len(token_html)}, length of token_html_trim: {len(token_html_trim)}\")\n",
    "        \n",
    "        #  split the html into subtrees\n",
    "        soup = bs4.BeautifulSoup(html, 'html.parser')\n",
    "        \n",
    "        html_chunk_paths = split_tree(soup)\n",
    "        matched_paths = []\n",
    "        \n",
    "        for path in html_chunk_paths:\n",
    "            if calculate_short_answer_EM(str(path[0]), answer)[\"exact_match\"] > 0.0:\n",
    "                matched_paths.append(path)\n",
    "                \n",
    "        if len(matched_paths) == 0:\n",
    "            continue\n",
    "        else:\n",
    "            #  visit soup trim through matched paths\n",
    "            kept_matched_paths = []\n",
    "            soup_trim = bs4.BeautifulSoup(html_trim, 'html.parser')\n",
    "            for matched_path in matched_paths:\n",
    "                path = matched_path[1]\n",
    "                tag = soup_trim\n",
    "                for p in path:\n",
    "                    for child in tag.contents:\n",
    "                        if isinstance(child, bs4.element.Tag):\n",
    "                            if child.name == p:\n",
    "                                tag = child\n",
    "                                break\n",
    "                #  check if trace to the end of the path\n",
    "                if tag.name == path[-1]:\n",
    "                    kept_matched_paths.append(matched_path)\n",
    "                    # print(f\"matched path: {path}\")\n",
    "            recall.append(len(kept_matched_paths)/len(matched_paths))\n",
    "    recall_mean=np.mean(recall)\n",
    "    # print(f\"version: {version} context_window: {context_window}, recall: {recall_mean}\")\n",
    "    version_idx=versions.index(version)\n",
    "    context_window_idx=context_windows.index(context_window)\n",
    "    context_window_recalls[context_window_idx+version_idx*len(context_windows)]=recall_mean\n",
    "    \n",
    "for version in versions:\n",
    "    for widx in range(len(context_windows)):\n",
    "        context_window=context_windows[widx]\n",
    "        p=multiprocessing.Process(target=calculate_answer_recall, args=(context_window, version))\n",
    "        p.start()\n",
    "        processes.append(p)\n",
    "    \n",
    "for p in processes:\n",
    "    p.join()"
   ],
   "id": "cf11a0cfbd0a71a8",
   "outputs": [
    {
     "name": "stdout",
     "output_type": "stream",
     "text": [
      "ref_file: ../html_data/asqa/treegen/v0701/llama/binghtml-slimplmqr-v0701-asqa-test-2k.jsonl\n",
      "ref_file: ../html_data/asqa/treegen/v0701/llama/binghtml-slimplmqr-v0701-asqa-test-4k.jsonl\n",
      "ref_file: ../html_data/asqa/treegen/v0701/llama/binghtml-slimplmqr-v0701-asqa-test-8k.jsonl\n",
      "ref_file: ../html_data/asqa/treegen/v0701/llama/binghtml-slimplmqr-v0701-asqa-test-16k.jsonl\n",
      "ref_file: ../html_data/asqa/treegen/v0701/llama/binghtml-slimplmqr-v0701-asqa-test-32k.jsonl\n",
      "ref_file: ../html_data/asqa/treegen/v0715/llama/binghtml-slimplmqr-v0715-asqa-test-2k.jsonl\n",
      "ref_file: ../html_data/asqa/treegen/v0715/llama/binghtml-slimplmqr-v0715-asqa-test-4k.jsonl\n",
      "ref_file: ../html_data/asqa/treegen/v0715/llama/binghtml-slimplmqr-v0715-asqa-test-8k.jsonl\n",
      "ref_file: ../html_data/asqa/treegen/v0715/llama/binghtml-slimplmqr-v0715-asqa-test-16k.jsonl\n",
      "ref_file: ../html_data/asqa/treegen/v0715/llama/binghtml-slimplmqr-v0715-asqa-test-32k.jsonl\n"
     ]
    },
    {
     "name": "stderr",
     "output_type": "stream",
     "text": [
      "v0701: 8k:  12%|█▏        | 46/400 [00:32<02:58,  1.99it/s]]/data_train/search/InternData/jiejuntan/anaconda3/envs/py39/lib/python3.9/html/parser.py:170: XMLParsedAsHTMLWarning: It looks like you're parsing an XML document using an HTML parser. If this really is an HTML document (maybe it's XHTML?), you can ignore or filter this warning. If it's XML, you should know that using an XML parser will be more reliable. To parse this document as XML, make sure you have the lxml package installed, and pass the keyword argument `features=\"xml\"` into the BeautifulSoup constructor.\n",
      "  k = self.parse_starttag(i)\n",
      "v0715: 8k:  48%|████▊     | 191/400 [02:02<01:54,  1.82it/s]]/data_train/search/InternData/jiejuntan/anaconda3/envs/py39/lib/python3.9/html/parser.py:170: XMLParsedAsHTMLWarning: It looks like you're parsing an XML document using an HTML parser. If this really is an HTML document (maybe it's XHTML?), you can ignore or filter this warning. If it's XML, you should know that using an XML parser will be more reliable. To parse this document as XML, make sure you have the lxml package installed, and pass the keyword argument `features=\"xml\"` into the BeautifulSoup constructor.\n",
      "  k = self.parse_starttag(i)\n",
      "v0715: 16k:  85%|████████▍ | 339/400 [03:59<00:24,  2.52it/s]/data_train/search/InternData/jiejuntan/anaconda3/envs/py39/lib/python3.9/html/parser.py:170: XMLParsedAsHTMLWarning: It looks like you're parsing an XML document using an HTML parser. If this really is an HTML document (maybe it's XHTML?), you can ignore or filter this warning. If it's XML, you should know that using an XML parser will be more reliable. To parse this document as XML, make sure you have the lxml package installed, and pass the keyword argument `features=\"xml\"` into the BeautifulSoup constructor.\n",
      "  k = self.parse_starttag(i)\n",
      "v0701: 4k: 100%|██████████| 400/400 [04:23<00:00,  1.52it/s]]\n",
      "v0701: 2k: 100%|██████████| 400/400 [04:23<00:00,  1.52it/s]]\n",
      "v0715: 4k: 100%|██████████| 400/400 [04:23<00:00,  1.52it/s]\n",
      "v0701: 8k: 100%|██████████| 400/400 [04:28<00:00,  1.49it/s]]\n",
      "v0715: 8k: 100%|██████████| 400/400 [04:35<00:00,  1.45it/s]]\n",
      "v0701: 16k: 100%|██████████| 400/400 [04:40<00:00,  1.42it/s]\n",
      "v0715: 2k: 100%|██████████| 400/400 [04:43<00:00,  1.41it/s]]\n",
      "v0715: 16k: 100%|██████████| 400/400 [04:47<00:00,  1.39it/s]\n",
      "v0701: 32k: 100%|██████████| 400/400 [05:04<00:00,  1.32it/s]\n",
      "v0715: 32k: 100%|██████████| 400/400 [05:07<00:00,  1.30it/s]\n"
     ]
    }
   ],
   "execution_count": 48
  },
  {
   "metadata": {},
   "cell_type": "code",
   "outputs": [],
   "execution_count": null,
   "source": "",
   "id": "54036305b5f860e7"
  },
  {
   "metadata": {
    "ExecuteTime": {
     "end_time": "2024-08-23T04:05:55.215354Z",
     "start_time": "2024-08-23T04:05:47.478080Z"
    }
   },
   "cell_type": "code",
   "source": [
    "import multiprocessing\n",
    "dataset=\"asqa\"\n",
    "context_windows=[\"2k\", \"4k\", \"8k\", \"16k\", \"32k\"]\n",
    "reference_formats = [\"chunk-rerank\", \"tree-rerank\"]\n",
    "html_trim_recalls=multiprocessing.Manager().list([0.0]*len(context_windows)*len(reference_formats))\n",
    "def calculate_html_trim_recall(context_window, reference_format): \n",
    "    recalls=[]\n",
    "    \n",
    "    ref_file = f\"../html_data/{dataset}/{reference_format}/{chat_tokenizer}/{search_engine}html-{rewrite_method}-{rerank_model}-{dataset}-{split}-{context_window}.jsonl\"\n",
    "    print(f\"ref_file: {ref_file}\")\n",
    "    ref_lines = [json.loads(line) for line in open(ref_file, \"r\")]\n",
    "    \n",
    "    if \"answers\" in ref_lines[0]:\n",
    "        answers = [ref_line['answers'] for ref_line in ref_lines]\n",
    "    elif \"short_answers\" in ref_lines[0]:\n",
    "        answers = [ref_line['short_answers'] for ref_line in ref_lines]\n",
    "    elif \"answer\" in ref_lines[0]:\n",
    "        answers = [ref_line['answer'] for ref_line in ref_lines]\n",
    "    else:\n",
    "        raise NotImplementedError(\"answers not found in ref_lines\")\n",
    "    for idx in tqdm(range(len(ref_lines)), desc=f\"html-trim {context_window}\"):\n",
    "        # print(ref_lines[idx].keys())\n",
    "        page_contents = ref_lines[idx][\"page_contents\"]\n",
    "        metadatas = ref_lines[idx][\"metadatas\"]\n",
    "        \n",
    "        matched_page_contents = []\n",
    "        for pidx in range(len(page_contents)):\n",
    "            if calculate_short_answer_EM(page_contents[pidx], answers[idx])[\"exact_match\"] > 0.0:\n",
    "                matched_page_contents.append(pidx)\n",
    "                \n",
    "        kept_matched_page_contents = []\n",
    "        for pidx in matched_page_contents:\n",
    "            head_key=[k for k in metadatas[pidx].keys() if k.startswith(\"Header\")][0]\n",
    "            head_text=metadatas[pidx][head_key]\n",
    "            html_idx=metadatas[pidx][\"html_index\"]\n",
    "            empty_html=[]\n",
    "            \n",
    "            if len(ref_lines[idx][f\"html_trim\"]) == 1:\n",
    "                corr_html=ref_lines[idx][f\"html_trim\"][0]\n",
    "            else:\n",
    "                assert html_idx < len(ref_lines[idx][f\"html_trim\"]), f\"html_idx: {html_idx}, len of html_trim: {len(ref_lines[idx][f'html_trim'])}\"\n",
    "                corr_html=ref_lines[idx][f\"html_trim\"][html_idx]\n",
    "            soup=bs4.BeautifulSoup(corr_html, 'html.parser')\n",
    "            if head_text == \"#TITLE#\":\n",
    "                try:\n",
    "                    body_first_word=soup.body.get_text().split()[0]\n",
    "                except:\n",
    "                    continue\n",
    "                page_content_first_word=page_contents[pidx].split()[0]\n",
    "                if body_first_word == page_content_first_word:\n",
    "                    kept_matched_page_contents.append(pidx)\n",
    "            else:\n",
    "                head_tags=[f\"h{i}\" for i in range(1, 4)]\n",
    "                for h in soup.find_all(head_tags):\n",
    "                    if h.get_text().strip() == head_text:\n",
    "                        kept_matched_page_contents.append(pidx)\n",
    "                        break\n",
    "        if len(matched_page_contents) == 0:\n",
    "            continue\n",
    "        recalls.append(len(kept_matched_page_contents)/len(matched_page_contents))\n",
    "        # print(f\"recall: {recall}\")\n",
    "        # print(f\"matched_page_contents: {matched_page_contents}\")\n",
    "        # print(f\"kept_matched_page_contents: {kept_matched_page_contents}\")\n",
    "        \n",
    "    context_windows_idx=context_windows.index(context_window)\n",
    "    reference_format_idx=reference_formats.index(reference_format)\n",
    "    html_trim_recalls[context_windows_idx+reference_format_idx*len(context_windows)]=np.mean(recalls)\n",
    "    \n",
    "processes=[]\n",
    "\n",
    "for reference_format in [\"chunk-rerank\"]:\n",
    "    for context_window in context_windows:\n",
    "        p=multiprocessing.Process(target=calculate_html_trim_recall, args=(context_window, reference_format))\n",
    "        p.start()\n",
    "        processes.append(p)\n",
    "    \n",
    "for p in processes:\n",
    "    p.join()\n",
    "print(\"done\")"
   ],
   "id": "cca682e58ba69285",
   "outputs": [
    {
     "name": "stdout",
     "output_type": "stream",
     "text": [
      "ref_file: ../html_data/asqa/chunk-rerank/llama/binghtml-slimplmqr-bgelargeen-asqa-test-2k.jsonl\n",
      "ref_file: ../html_data/asqa/chunk-rerank/llama/binghtml-slimplmqr-bgelargeen-asqa-test-4k.jsonlref_file: ../html_data/asqa/chunk-rerank/llama/binghtml-slimplmqr-bgelargeen-asqa-test-8k.jsonl\n",
      "\n",
      "ref_file: ../html_data/asqa/chunk-rerank/llama/binghtml-slimplmqr-bgelargeen-asqa-test-16k.jsonl\n",
      "ref_file: ../html_data/asqa/chunk-rerank/llama/binghtml-slimplmqr-bgelargeen-asqa-test-32k.jsonl\n",
      "ref_file: ../html_data/asqa/tree-rerank/llama/binghtml-slimplmqr-bgelargeen-asqa-test-2k.jsonl\n",
      "ref_file: ../html_data/asqa/tree-rerank/llama/binghtml-slimplmqr-bgelargeen-asqa-test-4k.jsonl\n",
      "ref_file: ../html_data/asqa/tree-rerank/llama/binghtml-slimplmqr-bgelargeen-asqa-test-8k.jsonl\n",
      "ref_file: ../html_data/asqa/tree-rerank/llama/binghtml-slimplmqr-bgelargeen-asqa-test-16k.jsonl\n",
      "ref_file: ../html_data/asqa/tree-rerank/llama/binghtml-slimplmqr-bgelargeen-asqa-test-32k.jsonl\n"
     ]
    },
    {
     "name": "stderr",
     "output_type": "stream",
     "text": [
      "html-trim 16k:   0%|          | 0/400 [00:00<?, ?it/s]6.31it/s]\n",
      "Process Process-150:\n",
      "html-trim 8k:   8%|▊         | 30/400 [00:02<00:20, 17.69it/s]Traceback (most recent call last):\n",
      "  File \"/data_train/search/InternData/jiejuntan/anaconda3/envs/py39/lib/python3.9/multiprocessing/process.py\", line 315, in _bootstrap\n",
      "    self.run()\n",
      "  File \"/data_train/search/InternData/jiejuntan/anaconda3/envs/py39/lib/python3.9/multiprocessing/process.py\", line 108, in run\n",
      "    self._target(*self._args, **self._kwargs)\n",
      "  File \"/tmp/ipykernel_171720/782241884.py\", line 23, in calculate_html_trim_recall\n",
      "    page_contents = ref_lines[idx][\"page_contents\"]\n",
      "KeyError: 'page_contents'\n",
      "html-trim 2k:   0%|          | 0/400 [00:00<?, ?it/s]6.64it/s]]\n",
      "Process Process-147:\n",
      "Traceback (most recent call last):\n",
      "  File \"/data_train/search/InternData/jiejuntan/anaconda3/envs/py39/lib/python3.9/multiprocessing/process.py\", line 315, in _bootstrap\n",
      "    self.run()\n",
      "  File \"/data_train/search/InternData/jiejuntan/anaconda3/envs/py39/lib/python3.9/multiprocessing/process.py\", line 108, in run\n",
      "    self._target(*self._args, **self._kwargs)\n",
      "  File \"/tmp/ipykernel_171720/782241884.py\", line 23, in calculate_html_trim_recall\n",
      "    page_contents = ref_lines[idx][\"page_contents\"]\n",
      "KeyError: 'page_contents'\n",
      "html-trim 4k:   0%|          | 0/400 [00:00<?, ?it/s] 6.15it/s]\n",
      "Process Process-148:\n",
      "Traceback (most recent call last):\n",
      "  File \"/data_train/search/InternData/jiejuntan/anaconda3/envs/py39/lib/python3.9/multiprocessing/process.py\", line 315, in _bootstrap\n",
      "    self.run()\n",
      "  File \"/data_train/search/InternData/jiejuntan/anaconda3/envs/py39/lib/python3.9/multiprocessing/process.py\", line 108, in run\n",
      "    self._target(*self._args, **self._kwargs)\n",
      "  File \"/tmp/ipykernel_171720/782241884.py\", line 23, in calculate_html_trim_recall\n",
      "    page_contents = ref_lines[idx][\"page_contents\"]\n",
      "KeyError: 'page_contents'\n",
      "html-trim 32k:   0%|          | 0/400 [00:00<?, ?it/s].12it/s]]\n",
      "Process Process-151:\n",
      "Traceback (most recent call last):\n",
      "  File \"/data_train/search/InternData/jiejuntan/anaconda3/envs/py39/lib/python3.9/multiprocessing/process.py\", line 315, in _bootstrap\n",
      "    self.run()\n",
      "html-trim 32k:   6%|▌         | 24/400 [00:03<00:59,  6.27it/s]  File \"/data_train/search/InternData/jiejuntan/anaconda3/envs/py39/lib/python3.9/multiprocessing/process.py\", line 108, in run\n",
      "    self._target(*self._args, **self._kwargs)\n",
      "  File \"/tmp/ipykernel_171720/782241884.py\", line 23, in calculate_html_trim_recall\n",
      "    page_contents = ref_lines[idx][\"page_contents\"]\n",
      "KeyError: 'page_contents'\n",
      "html-trim 8k:  14%|█▍        | 58/400 [00:04<00:24, 13.86it/s]]\n",
      "\n",
      "\n",
      "\n",
      "\n",
      "Process Process-146:\n",
      "Traceback (most recent call last):\n",
      "  File \"/data_train/search/InternData/jiejuntan/anaconda3/envs/py39/lib/python3.9/multiprocessing/process.py\", line 315, in _bootstrap\n",
      "    self.run()\n",
      "Process Process-145:\n",
      "  File \"/data_train/search/InternData/jiejuntan/anaconda3/envs/py39/lib/python3.9/multiprocessing/process.py\", line 108, in run\n",
      "    self._target(*self._args, **self._kwargs)\n",
      "  File \"/tmp/ipykernel_171720/782241884.py\", line 28, in calculate_html_trim_recall\n",
      "    if calculate_short_answer_EM(page_contents[pidx], answers[idx])[\"exact_match\"] > 0.0:\n",
      "  File \"/tmp/ipykernel_171720/1843959638.py\", line 27, in calculate_short_answer_EM\n",
      "    generated_answer=normalize_answer(generated_answer)\n",
      "  File \"/tmp/ipykernel_171720/1843959638.py\", line 21, in normalize_answer\n",
      "    return white_space_fix(remove_articles(remove_punc(lower(s))))\n",
      "  File \"/tmp/ipykernel_171720/1843959638.py\", line 12, in white_space_fix\n",
      "    return ' '.join(text.split())\n",
      "KeyboardInterrupt\n",
      "Process Process-143:\n",
      "Process Process-142:\n",
      "Process Process-144:\n",
      "Traceback (most recent call last):\n",
      "  File \"/data_train/search/InternData/jiejuntan/anaconda3/envs/py39/lib/python3.9/multiprocessing/process.py\", line 315, in _bootstrap\n",
      "    self.run()\n",
      "  File \"/data_train/search/InternData/jiejuntan/anaconda3/envs/py39/lib/python3.9/multiprocessing/process.py\", line 108, in run\n",
      "    self._target(*self._args, **self._kwargs)\n",
      "  File \"/tmp/ipykernel_171720/782241884.py\", line 28, in calculate_html_trim_recall\n",
      "    if calculate_short_answer_EM(page_contents[pidx], answers[idx])[\"exact_match\"] > 0.0:\n",
      "  File \"/tmp/ipykernel_171720/1843959638.py\", line 27, in calculate_short_answer_EM\n",
      "    generated_answer=normalize_answer(generated_answer)\n",
      "  File \"/tmp/ipykernel_171720/1843959638.py\", line 21, in normalize_answer\n",
      "    return white_space_fix(remove_articles(remove_punc(lower(s))))\n",
      "  File \"/tmp/ipykernel_171720/1843959638.py\", line 16, in remove_punc\n",
      "    return ''.join(ch for ch in text if ch not in exclude)\n"
     ]
    },
    {
     "ename": "KeyboardInterrupt",
     "evalue": "",
     "output_type": "error",
     "traceback": [
      "\u001B[0;31m---------------------------------------------------------------------------\u001B[0m",
      "\u001B[0;31mKeyboardInterrupt\u001B[0m                         Traceback (most recent call last)",
      "Cell \u001B[0;32mIn[49], line 78\u001B[0m\n\u001B[1;32m     75\u001B[0m         processes\u001B[38;5;241m.\u001B[39mappend(p)\n\u001B[1;32m     77\u001B[0m \u001B[38;5;28;01mfor\u001B[39;00m p \u001B[38;5;129;01min\u001B[39;00m processes:\n\u001B[0;32m---> 78\u001B[0m     \u001B[43mp\u001B[49m\u001B[38;5;241;43m.\u001B[39;49m\u001B[43mjoin\u001B[49m\u001B[43m(\u001B[49m\u001B[43m)\u001B[49m\n\u001B[1;32m     79\u001B[0m \u001B[38;5;28mprint\u001B[39m(\u001B[38;5;124m\"\u001B[39m\u001B[38;5;124mdone\u001B[39m\u001B[38;5;124m\"\u001B[39m)\n",
      "File \u001B[0;32m~/anaconda3/envs/py39/lib/python3.9/multiprocessing/process.py:149\u001B[0m, in \u001B[0;36mBaseProcess.join\u001B[0;34m(self, timeout)\u001B[0m\n\u001B[1;32m    147\u001B[0m \u001B[38;5;28;01massert\u001B[39;00m \u001B[38;5;28mself\u001B[39m\u001B[38;5;241m.\u001B[39m_parent_pid \u001B[38;5;241m==\u001B[39m os\u001B[38;5;241m.\u001B[39mgetpid(), \u001B[38;5;124m'\u001B[39m\u001B[38;5;124mcan only join a child process\u001B[39m\u001B[38;5;124m'\u001B[39m\n\u001B[1;32m    148\u001B[0m \u001B[38;5;28;01massert\u001B[39;00m \u001B[38;5;28mself\u001B[39m\u001B[38;5;241m.\u001B[39m_popen \u001B[38;5;129;01mis\u001B[39;00m \u001B[38;5;129;01mnot\u001B[39;00m \u001B[38;5;28;01mNone\u001B[39;00m, \u001B[38;5;124m'\u001B[39m\u001B[38;5;124mcan only join a started process\u001B[39m\u001B[38;5;124m'\u001B[39m\n\u001B[0;32m--> 149\u001B[0m res \u001B[38;5;241m=\u001B[39m \u001B[38;5;28;43mself\u001B[39;49m\u001B[38;5;241;43m.\u001B[39;49m\u001B[43m_popen\u001B[49m\u001B[38;5;241;43m.\u001B[39;49m\u001B[43mwait\u001B[49m\u001B[43m(\u001B[49m\u001B[43mtimeout\u001B[49m\u001B[43m)\u001B[49m\n\u001B[1;32m    150\u001B[0m \u001B[38;5;28;01mif\u001B[39;00m res \u001B[38;5;129;01mis\u001B[39;00m \u001B[38;5;129;01mnot\u001B[39;00m \u001B[38;5;28;01mNone\u001B[39;00m:\n\u001B[1;32m    151\u001B[0m     _children\u001B[38;5;241m.\u001B[39mdiscard(\u001B[38;5;28mself\u001B[39m)\n",
      "File \u001B[0;32m~/anaconda3/envs/py39/lib/python3.9/multiprocessing/popen_fork.py:43\u001B[0m, in \u001B[0;36mPopen.wait\u001B[0;34m(self, timeout)\u001B[0m\n\u001B[1;32m     41\u001B[0m             \u001B[38;5;28;01mreturn\u001B[39;00m \u001B[38;5;28;01mNone\u001B[39;00m\n\u001B[1;32m     42\u001B[0m     \u001B[38;5;66;03m# This shouldn't block if wait() returned successfully.\u001B[39;00m\n\u001B[0;32m---> 43\u001B[0m     \u001B[38;5;28;01mreturn\u001B[39;00m \u001B[38;5;28;43mself\u001B[39;49m\u001B[38;5;241;43m.\u001B[39;49m\u001B[43mpoll\u001B[49m\u001B[43m(\u001B[49m\u001B[43mos\u001B[49m\u001B[38;5;241;43m.\u001B[39;49m\u001B[43mWNOHANG\u001B[49m\u001B[43m \u001B[49m\u001B[38;5;28;43;01mif\u001B[39;49;00m\u001B[43m \u001B[49m\u001B[43mtimeout\u001B[49m\u001B[43m \u001B[49m\u001B[38;5;241;43m==\u001B[39;49m\u001B[43m \u001B[49m\u001B[38;5;241;43m0.0\u001B[39;49m\u001B[43m \u001B[49m\u001B[38;5;28;43;01melse\u001B[39;49;00m\u001B[43m \u001B[49m\u001B[38;5;241;43m0\u001B[39;49m\u001B[43m)\u001B[49m\n\u001B[1;32m     44\u001B[0m \u001B[38;5;28;01mreturn\u001B[39;00m \u001B[38;5;28mself\u001B[39m\u001B[38;5;241m.\u001B[39mreturncode\n",
      "File \u001B[0;32m~/anaconda3/envs/py39/lib/python3.9/multiprocessing/popen_fork.py:27\u001B[0m, in \u001B[0;36mPopen.poll\u001B[0;34m(self, flag)\u001B[0m\n\u001B[1;32m     25\u001B[0m \u001B[38;5;28;01mif\u001B[39;00m \u001B[38;5;28mself\u001B[39m\u001B[38;5;241m.\u001B[39mreturncode \u001B[38;5;129;01mis\u001B[39;00m \u001B[38;5;28;01mNone\u001B[39;00m:\n\u001B[1;32m     26\u001B[0m     \u001B[38;5;28;01mtry\u001B[39;00m:\n\u001B[0;32m---> 27\u001B[0m         pid, sts \u001B[38;5;241m=\u001B[39m \u001B[43mos\u001B[49m\u001B[38;5;241;43m.\u001B[39;49m\u001B[43mwaitpid\u001B[49m\u001B[43m(\u001B[49m\u001B[38;5;28;43mself\u001B[39;49m\u001B[38;5;241;43m.\u001B[39;49m\u001B[43mpid\u001B[49m\u001B[43m,\u001B[49m\u001B[43m \u001B[49m\u001B[43mflag\u001B[49m\u001B[43m)\u001B[49m\n\u001B[1;32m     28\u001B[0m     \u001B[38;5;28;01mexcept\u001B[39;00m \u001B[38;5;167;01mOSError\u001B[39;00m:\n\u001B[1;32m     29\u001B[0m         \u001B[38;5;66;03m# Child process not yet created. See #1731717\u001B[39;00m\n\u001B[1;32m     30\u001B[0m         \u001B[38;5;66;03m# e.errno == errno.ECHILD == 10\u001B[39;00m\n\u001B[1;32m     31\u001B[0m         \u001B[38;5;28;01mreturn\u001B[39;00m \u001B[38;5;28;01mNone\u001B[39;00m\n",
      "\u001B[0;31mKeyboardInterrupt\u001B[0m: "
     ]
    },
    {
     "name": "stderr",
     "output_type": "stream",
     "text": [
      "  File \"/tmp/ipykernel_171720/1843959638.py\", line 16, in <genexpr>\n",
      "    return ''.join(ch for ch in text if ch not in exclude)\n",
      "KeyboardInterrupt\n",
      "Traceback (most recent call last):\n",
      "  File \"/data_train/search/InternData/jiejuntan/anaconda3/envs/py39/lib/python3.9/multiprocessing/process.py\", line 315, in _bootstrap\n",
      "    self.run()\n",
      "  File \"/data_train/search/InternData/jiejuntan/anaconda3/envs/py39/lib/python3.9/multiprocessing/process.py\", line 108, in run\n",
      "    self._target(*self._args, **self._kwargs)\n",
      "  File \"/tmp/ipykernel_171720/782241884.py\", line 43, in calculate_html_trim_recall\n",
      "    soup=bs4.BeautifulSoup(corr_html, 'html.parser')\n",
      "  File \"/data_train/search/InternData/jiejuntan/anaconda3/envs/py39/lib/python3.9/site-packages/bs4/__init__.py\", line 335, in __init__\n",
      "    self._feed()\n",
      "Traceback (most recent call last):\n"
     ]
    }
   ],
   "execution_count": 49
  },
  {
   "metadata": {},
   "cell_type": "code",
   "source": [
    "print(html_trim_recalls)\n",
    "print(context_window_recalls)"
   ],
   "id": "ca638b9b099cab5b",
   "outputs": [],
   "execution_count": null
  },
  {
   "metadata": {},
   "cell_type": "code",
   "source": [
    "#  draw the recall curve\n",
    "import matplotlib as mpl\n",
    "import matplotlib.pyplot as plt\n",
    "import numpy as np\n",
    "\n",
    "fig, ax = plt.subplots()\n",
    "plt.subplots_adjust(hspace=0)\n",
    "\n",
    "#  x axis is the context window size\n",
    "context_windows = [\"2k\", \"4k\", \"8k\", \"16k\", \"32k\"]\n",
    "x_ticks=np.linspace(0, 5, 5)\n",
    "#  y axis is the recall\n",
    "y_ticks=np.linspace(0, .5, 5)\n",
    "colors=[\"r\", \"g\", \"b\", \"c\", \"m\", \"y\"]\n",
    "markers=[\"o\", \"s\", \"D\", \"^\", \"v\", \"p\"]\n",
    "#  context window recall\n",
    "for vidx in range(len(versions)):\n",
    "    y_values = list(context_window_recalls[vidx*len(context_windows):(vidx+1)*len(context_windows)])\n",
    "    ax.plot(x_ticks, y_values, label=versions[vidx], color=colors[vidx], marker=markers[vidx])\n",
    "#  html trim recall\n",
    "y_values = [html_trim_recalls[i] for i in range(len(context_windows))]\n",
    "ax.plot(x_ticks, y_values, label=f\"html-trim\", color=\"b\", marker=\"^\")\n",
    "ax.set_xticks(x_ticks)\n",
    "ax.set_xticklabels(context_windows)\n",
    "ax.set_yticks(y_ticks)\n",
    "ax.set_yticklabels([f\"{y:.2f}\" for y in y_ticks])\n",
    "ax.set_xlabel(\"Context Window Size\")\n",
    "ax.set_ylabel(\"Recall\")\n",
    "ax.legend()\n",
    "plt.show()\n",
    "plt.tight_layout()\n",
    "plt.savefig(f\"../figures/{dataset}_chunk_recall.pdf\", format=\"pdf\")\n",
    "plt.close()\n"
   ],
   "id": "adbb9c4548cb7053",
   "outputs": [],
   "execution_count": null
  },
  {
   "metadata": {
    "ExecuteTime": {
     "end_time": "2024-08-28T07:58:41.911723Z",
     "start_time": "2024-08-28T07:58:28.656242Z"
    }
   },
   "cell_type": "code",
   "source": [
    "#  analyze answer recall on different context window sizes\n",
    "from tqdm import tqdm\n",
    "import numpy as np\n",
    "import json\n",
    "import multiprocessing\n",
    "\n",
    "split = \"test\"\n",
    "rewrite_method = \"slimplmqr\"\n",
    "dataset = \"asqa\"\n",
    "search_engine=\"bing\"\n",
    "chat_tokenizer=\"llama\"\n",
    "rerank_model=\"bgelargeen\"\n",
    "\n",
    "context_answer_recalls=multiprocessing.Manager().list([0.0]*(len(context_windows)*20))\n",
    "def calculate_answer_recall(context_window, version, reference_format, fine_trim_ratio=\"1/2\"):\n",
    "    recalls=[]\n",
    "    if fine_trim_ratio == \"1/2\":\n",
    "        coarse_context_window = {\"2k\": \"4k\", \"4k\": \"8k\", \"8k\": \"16k\", \"16k\": \"32k\", \"32k\": \"64k\", \"64k\": \"128k\"}[context_window]\n",
    "    elif fine_trim_ratio == \"2/3\":\n",
    "        coarse_context_window = {\"2k\": \"3k\", \"4k\": \"6k\", \"8k\": \"12k\", \"16k\": \"24k\", \"32k\": \"48k\", \"64k\": \"96k\"}[context_window]\n",
    "    else:\n",
    "        raise ValueError(f\"fine_trim_ratio {fine_trim_ratio} not supported\")\n",
    "    if reference_format in [\"chunk-rerank\", \"tree-rerank\"]:\n",
    "        ref_file = f\"../html_data/{dataset}/{reference_format}/{chat_tokenizer}/{search_engine}html-{rewrite_method}-{rerank_model}-{dataset}-{split}-{context_window}.jsonl\"\n",
    "    elif reference_format in [\"tree-gen\"]:\n",
    "        ref_file = f\"../html_data/{dataset}/tree-gen/{version}/{chat_tokenizer}/{search_engine}html-{rewrite_method}-{version}-{dataset}-{split}-{context_window}.jsonl\"\n",
    "    elif reference_format in [\"chunk-rerank-tree-gen\"]:\n",
    "        ref_file = f\"../html_data/{dataset}/chunk-rerank-tree-gen/{version}/{chat_tokenizer}/{search_engine}html-{rewrite_method}-{rerank_model}-{dataset}-{split}-{coarse_context_window}to{context_window}.jsonl\"\n",
    "    elif reference_format in [\"chunk-rerank-tree-rerank\"]:\n",
    "        ref_file = f\"../html_data/{dataset}/chunk-rerank-tree-rerank/{chat_tokenizer}/{search_engine}html-{rewrite_method}-{rerank_model}-{dataset}-{split}-{coarse_context_window}to{context_window}.jsonl\"\n",
    "    else:\n",
    "        raise NotImplementedError(\"reference_format not found\")\n",
    "    print(f\"ref_file: {ref_file}\")\n",
    "    try:\n",
    "        ref_lines = [json.loads(line) for line in open(ref_file, \"r\")]\n",
    "    except:\n",
    "        print(f\"ref_file: {ref_file} not found\")\n",
    "        return\n",
    "    \n",
    "    if \"answers\" in ref_lines[0]:\n",
    "        answers = [ref_line['answers'] for ref_line in ref_lines]\n",
    "    elif \"short_answers\" in ref_lines[0]:\n",
    "        answers = [ref_line['short_answers'] for ref_line in ref_lines]\n",
    "    elif \"answer\" in ref_lines[0]:\n",
    "        answers = [ref_line['answer'] for ref_line in ref_lines]\n",
    "    else:\n",
    "        raise NotImplementedError(\"answers not found in ref_lines\")\n",
    "    for idx in tqdm(range(len(ref_lines)), desc=f\"{reference_format} {version}: {context_window}\"):\n",
    "        if reference_format in [\"chunk-rerank\", \"tree-rerank\", \"tree-gen\", \"chunk-rerank-tree-gen\", \"chunk-rerank-tree-rerank\"]:\n",
    "            html_trim=ref_lines[idx][\"html_trim\"]\n",
    "        elif reference_format in [\"fill-chunk\"]:\n",
    "            html_trim=ref_lines[idx][\"fill-chunk\"]\n",
    "        else:\n",
    "            raise NotImplementedError(\"reference_format not found\")\n",
    "        html_trim=\"\".join(html_trim)\n",
    "        answer=answers[idx]\n",
    "        \n",
    "        recall=calculate_short_answer_EM(html_trim, answer)[\"exact_match\"]\n",
    "        recalls.append(recall)\n",
    "    if reference_format == \"chunk-rerank\":\n",
    "        version_idx=0\n",
    "    elif reference_format == \"chunk-rerank-tree-gen\":\n",
    "        version_idx=1+versions.index(version) * 2 + [\"1/2\", \"2/3\"].index(fine_trim_ratio)\n",
    "    elif reference_format == \"chunk-rerank-tree-rerank\":\n",
    "        version_idx=5 + [\"1/2\", \"2/3\"].index(fine_trim_ratio)\n",
    "    context_window_idx=context_windows.index(context_window)\n",
    "    \n",
    "    context_answer_recalls[context_window_idx+version_idx*len(context_windows)]=np.mean(recalls)\n",
    "    \n",
    "processes=[]\n",
    "versions=[\"v0701\", \"v0715\"]\n",
    "context_windows=[\"2k\", \"4k\", \"8k\", \"16k\", \"32k\"]\n",
    "reference_formats=[\"chunk-rerank\", \"chunk-rerank-tree-gen\", \"chunk-rerank-tree-rerank\", ]\n",
    "reference_format=\"chunk-rerank\"\n",
    "for context_window in context_windows:\n",
    "    p=multiprocessing.Process(target=calculate_answer_recall, args=(context_window, version, reference_format))\n",
    "    p.start()\n",
    "    processes.append(p)\n",
    "reference_format=\"chunk-rerank-tree-gen\"\n",
    "for version in versions:\n",
    "    for context_window in context_windows:\n",
    "        for fine_trim_ratio in [\"1/2\", \"2/3\"]:\n",
    "            p=multiprocessing.Process(target=calculate_answer_recall, args=(context_window, version, reference_format, fine_trim_ratio))\n",
    "            p.start()\n",
    "            processes.append(p)\n",
    "        \n",
    "reference_format=\"chunk-rerank-tree-rerank\"\n",
    "for context_window in context_windows:\n",
    "    for fine_trim_ratio in [\"1/2\", \"2/3\"]:\n",
    "        p=multiprocessing.Process(target=calculate_answer_recall, args=(context_window, version, reference_format, fine_trim_ratio))\n",
    "        p.start()\n",
    "        processes.append(p)\n",
    "\n",
    "    \n",
    "for p in processes:\n",
    "    p.join()\n",
    "                "
   ],
   "id": "b6ad7079172b9c5",
   "outputs": [
    {
     "name": "stdout",
     "output_type": "stream",
     "text": [
      "ref_file: ../html_data/asqa/chunk-rerank/llama/binghtml-slimplmqr-bgelargeen-asqa-test-2k.jsonl\n",
      "ref_file: ../html_data/asqa/chunk-rerank/llama/binghtml-slimplmqr-bgelargeen-asqa-test-4k.jsonl\n",
      "ref_file: ../html_data/asqa/chunk-rerank/llama/binghtml-slimplmqr-bgelargeen-asqa-test-8k.jsonl\n",
      "ref_file: ../html_data/asqa/chunk-rerank/llama/binghtml-slimplmqr-bgelargeen-asqa-test-16k.jsonl\n",
      "ref_file: ../html_data/asqa/chunk-rerank/llama/binghtml-slimplmqr-bgelargeen-asqa-test-32k.jsonl\n",
      "ref_file: ../html_data/asqa/chunk-rerank-tree-gen/v0701/llama/binghtml-slimplmqr-bgelargeen-asqa-test-4kto2k.jsonl\n",
      "ref_file: ../html_data/asqa/chunk-rerank-tree-gen/v0701/llama/binghtml-slimplmqr-bgelargeen-asqa-test-3kto2k.jsonl\n",
      "ref_file: ../html_data/asqa/chunk-rerank-tree-gen/v0701/llama/binghtml-slimplmqr-bgelargeen-asqa-test-8kto4k.jsonl\n",
      "ref_file: ../html_data/asqa/chunk-rerank-tree-gen/v0701/llama/binghtml-slimplmqr-bgelargeen-asqa-test-6kto4k.jsonl\n",
      "ref_file: ../html_data/asqa/chunk-rerank-tree-gen/v0701/llama/binghtml-slimplmqr-bgelargeen-asqa-test-16kto8k.jsonl\n",
      "ref_file: ../html_data/asqa/chunk-rerank-tree-gen/v0701/llama/binghtml-slimplmqr-bgelargeen-asqa-test-12kto8k.jsonl\n",
      "ref_file: ../html_data/asqa/chunk-rerank-tree-gen/v0701/llama/binghtml-slimplmqr-bgelargeen-asqa-test-32kto16k.jsonl\n"
     ]
    },
    {
     "name": "stderr",
     "output_type": "stream",
     "text": [
      "Process Process-583:\n"
     ]
    },
    {
     "name": "stdout",
     "output_type": "stream",
     "text": [
      "ref_file: ../html_data/asqa/chunk-rerank-tree-gen/v0701/llama/binghtml-slimplmqr-bgelargeen-asqa-test-24kto16k.jsonl\n"
     ]
    },
    {
     "name": "stderr",
     "output_type": "stream",
     "text": [
      "Traceback (most recent call last):\n",
      "  File \"/data_train/search/InternData/jiejuntan/anaconda3/envs/py39/lib/python3.9/multiprocessing/process.py\", line 315, in _bootstrap\n",
      "    self.run()\n",
      "  File \"/data_train/search/InternData/jiejuntan/anaconda3/envs/py39/lib/python3.9/multiprocessing/process.py\", line 108, in run\n",
      "    self._target(*self._args, **self._kwargs)\n"
     ]
    },
    {
     "name": "stdout",
     "output_type": "stream",
     "text": [
      "ref_file: ../html_data/asqa/chunk-rerank-tree-gen/v0701/llama/binghtml-slimplmqr-bgelargeen-asqa-test-64kto32k.jsonl"
     ]
    },
    {
     "name": "stderr",
     "output_type": "stream",
     "text": [
      "  File \"/tmp/ipykernel_171720/1107803309.py\", line 47, in calculate_answer_recall\n",
      "    raise NotImplementedError(\"answers not found in ref_lines\")\n"
     ]
    },
    {
     "name": "stdout",
     "output_type": "stream",
     "text": [
      "\n"
     ]
    },
    {
     "name": "stderr",
     "output_type": "stream",
     "text": [
      "NotImplementedError: answers not found in ref_lines\n"
     ]
    },
    {
     "name": "stdout",
     "output_type": "stream",
     "text": [
      "ref_file: ../html_data/asqa/chunk-rerank-tree-gen/v0701/llama/binghtml-slimplmqr-bgelargeen-asqa-test-48kto32k.jsonl\n",
      "ref_file: ../html_data/asqa/chunk-rerank-tree-gen/v0715/llama/binghtml-slimplmqr-bgelargeen-asqa-test-4kto2k.jsonl\n",
      "ref_file: ../html_data/asqa/chunk-rerank-tree-gen/v0715/llama/binghtml-slimplmqr-bgelargeen-asqa-test-3kto2k.jsonl\n",
      "ref_file: ../html_data/asqa/chunk-rerank-tree-gen/v0715/llama/binghtml-slimplmqr-bgelargeen-asqa-test-8kto4k.jsonl\n",
      "ref_file: ../html_data/asqa/chunk-rerank-tree-gen/v0715/llama/binghtml-slimplmqr-bgelargeen-asqa-test-6kto4k.jsonl\n",
      "ref_file: ../html_data/asqa/chunk-rerank-tree-gen/v0715/llama/binghtml-slimplmqr-bgelargeen-asqa-test-16kto8k.jsonl\n",
      "ref_file: ../html_data/asqa/chunk-rerank-tree-gen/v0715/llama/binghtml-slimplmqr-bgelargeen-asqa-test-12kto8k.jsonl\n",
      "ref_file: ../html_data/asqa/chunk-rerank-tree-gen/v0715/llama/binghtml-slimplmqr-bgelargeen-asqa-test-32kto16k.jsonl\n",
      "ref_file: ../html_data/asqa/chunk-rerank-tree-gen/v0715/llama/binghtml-slimplmqr-bgelargeen-asqa-test-24kto16k.jsonl\n",
      "ref_file: ../html_data/asqa/chunk-rerank-tree-gen/v0715/llama/binghtml-slimplmqr-bgelargeen-asqa-test-64kto32k.jsonl\n",
      "ref_file: ../html_data/asqa/chunk-rerank-tree-gen/v0715/llama/binghtml-slimplmqr-bgelargeen-asqa-test-48kto32k.jsonl\n",
      "ref_file: ../html_data/asqa/chunk-rerank-tree-rerank/llama/binghtml-slimplmqr-bgelargeen-asqa-test-4kto2k.jsonl\n",
      "ref_file: ../html_data/asqa/chunk-rerank-tree-rerank/llama/binghtml-slimplmqr-bgelargeen-asqa-test-3kto2k.jsonl\n",
      "ref_file: ../html_data/asqa/chunk-rerank-tree-rerank/llama/binghtml-slimplmqr-bgelargeen-asqa-test-8kto4k.jsonl\n",
      "ref_file: ../html_data/asqa/chunk-rerank-tree-rerank/llama/binghtml-slimplmqr-bgelargeen-asqa-test-16kto8k.jsonlref_file: ../html_data/asqa/chunk-rerank-tree-rerank/llama/binghtml-slimplmqr-bgelargeen-asqa-test-6kto4k.jsonl\n",
      "\n"
     ]
    },
    {
     "name": "stderr",
     "output_type": "stream",
     "text": [
      "chunk-rerank-tree-gen v0701: 2k:   0%|          | 0/400 [00:00<?, ?it/s]"
     ]
    },
    {
     "name": "stdout",
     "output_type": "stream",
     "text": [
      "ref_file: ../html_data/asqa/chunk-rerank-tree-rerank/llama/binghtml-slimplmqr-bgelargeen-asqa-test-12kto8k.jsonl\n",
      "ref_file: ../html_data/asqa/chunk-rerank-tree-rerank/llama/binghtml-slimplmqr-bgelargeen-asqa-test-32kto16k.jsonl"
     ]
    },
    {
     "name": "stderr",
     "output_type": "stream",
     "text": [
      "chunk-rerank-tree-gen v0701: 2k:   0%|          | 0/400 [00:00<?, ?it/s]"
     ]
    },
    {
     "name": "stdout",
     "output_type": "stream",
     "text": [
      "\n",
      "ref_file: ../html_data/asqa/chunk-rerank-tree-rerank/llama/binghtml-slimplmqr-bgelargeen-asqa-test-24kto16k.jsonl\n"
     ]
    },
    {
     "name": "stderr",
     "output_type": "stream",
     "text": [
      "chunk-rerank-tree-gen v0701: 2k:  24%|██▍       | 96/400 [00:00<00:00, 959.23it/s]"
     ]
    },
    {
     "name": "stdout",
     "output_type": "stream",
     "text": [
      "ref_file: ../html_data/asqa/chunk-rerank-tree-rerank/llama/binghtml-slimplmqr-bgelargeen-asqa-test-64kto32k.jsonl\n"
     ]
    },
    {
     "name": "stderr",
     "output_type": "stream",
     "text": [
      "chunk-rerank-tree-gen v0701: 2k:  33%|███▎      | 132/400 [00:00<00:00, 1316.19it/s]"
     ]
    },
    {
     "name": "stdout",
     "output_type": "stream",
     "text": [
      "ref_file: ../html_data/asqa/chunk-rerank-tree-rerank/llama/binghtml-slimplmqr-bgelargeen-asqa-test-48kto32k.jsonl\n"
     ]
    },
    {
     "name": "stderr",
     "output_type": "stream",
     "text": [
      "chunk-rerank-tree-gen v0701: 2k: 100%|██████████| 400/400 [00:00<00:00, 1307.12it/s]\n",
      "chunk-rerank-tree-gen v0701: 2k: 100%|██████████| 400/400 [00:00<00:00, 961.10it/s]\n",
      "chunk-rerank-tree-gen v0701: 4k: 100%|██████████| 400/400 [00:00<00:00, 655.35it/s]]\n",
      "chunk-rerank-tree-gen v0715: 2k: 100%|██████████| 400/400 [00:00<00:00, 1320.36it/s]\n",
      "chunk-rerank-tree-gen v0715: 2k: 100%|██████████| 400/400 [00:00<00:00, 999.25it/s]\n",
      "chunk-rerank-tree-gen v0701: 4k: 100%|██████████| 400/400 [00:00<00:00, 482.82it/s]\n",
      "chunk-rerank v0715: 2k: 100%|██████████| 400/400 [00:00<00:00, 1904.46it/s]26it/s]]\n",
      "chunk-rerank-tree-gen v0715: 4k: 100%|██████████| 400/400 [00:00<00:00, 653.15it/s]\n",
      "chunk-rerank v0715: 4k: 100%|██████████| 400/400 [00:00<00:00, 992.46it/s] .72it/s]\n",
      "chunk-rerank-tree-gen v0715: 4k: 100%|██████████| 400/400 [00:00<00:00, 481.38it/s]\n",
      "chunk-rerank-tree-gen v0701: 8k: 100%|██████████| 400/400 [00:01<00:00, 314.30it/s]]\n",
      "chunk-rerank v0715: 8k: 100%|██████████| 400/400 [00:00<00:00, 484.15it/s]6.75it/s]]\n",
      "chunk-rerank-tree-gen v0715: 8k: 100%|██████████| 400/400 [00:01<00:00, 312.72it/s]]\n",
      "chunk-rerank-tree-gen v0701: 8k: 100%|██████████| 400/400 [00:01<00:00, 223.21it/s]]\n",
      "chunk-rerank-tree-rerank v0715: 2k: 100%|██████████| 400/400 [00:00<00:00, 1515.30it/s]\n",
      "chunk-rerank-tree-rerank v0715: 2k: 100%|██████████| 400/400 [00:00<00:00, 1642.28it/s]\n",
      "chunk-rerank-tree-gen v0715: 8k: 100%|██████████| 400/400 [00:01<00:00, 223.98it/s]]s]\n",
      "chunk-rerank v0715: 16k: 100%|██████████| 400/400 [00:01<00:00, 223.43it/s]63.70it/s]]\n",
      "chunk-rerank-tree-rerank v0715: 4k: 100%|██████████| 400/400 [00:00<00:00, 756.51it/s]\n",
      "chunk-rerank-tree-rerank v0715: 4k: 100%|██████████| 400/400 [00:00<00:00, 721.40it/s]\n",
      "chunk-rerank-tree-gen v0701: 16k: 100%|██████████| 400/400 [00:02<00:00, 148.36it/s]s]\n",
      "chunk-rerank-tree-rerank v0715: 8k: 100%|██████████| 400/400 [00:01<00:00, 343.12it/s]]\n",
      "chunk-rerank-tree-rerank v0715: 8k: 100%|██████████| 400/400 [00:01<00:00, 360.57it/s]\n",
      "chunk-rerank-tree-gen v0715: 16k: 100%|██████████| 400/400 [00:02<00:00, 146.72it/s]/s]\n",
      "chunk-rerank v0715: 32k: 100%|██████████| 400/400 [00:03<00:00, 109.14it/s].41it/s]t/s]\n",
      "chunk-rerank-tree-gen v0715: 16k: 100%|██████████| 400/400 [00:03<00:00, 112.35it/s]s]\n",
      "chunk-rerank-tree-rerank v0715: 16k: 100%|██████████| 400/400 [00:02<00:00, 172.95it/s]\n",
      "chunk-rerank-tree-rerank v0715: 16k: 100%|██████████| 400/400 [00:02<00:00, 173.98it/s]\n",
      "chunk-rerank-tree-rerank v0715: 32k: 100%|██████████| 400/400 [00:04<00:00, 88.16it/s]\n",
      "chunk-rerank-tree-rerank v0715: 32k: 100%|██████████| 400/400 [00:04<00:00, 87.83it/s]\n",
      "chunk-rerank-tree-gen v0701: 32k: 100%|██████████| 400/400 [00:05<00:00, 73.37it/s]\n",
      "chunk-rerank-tree-gen v0715: 32k: 100%|██████████| 400/400 [00:05<00:00, 73.98it/s]\n",
      "chunk-rerank-tree-gen v0701: 32k: 100%|██████████| 400/400 [00:06<00:00, 57.16it/s]\n",
      "chunk-rerank-tree-gen v0715: 32k: 100%|██████████| 400/400 [00:07<00:00, 57.03it/s]\n"
     ]
    }
   ],
   "execution_count": 80
  },
  {
   "metadata": {
    "ExecuteTime": {
     "end_time": "2024-08-28T07:59:16.272289Z",
     "start_time": "2024-08-28T07:59:15.993016Z"
    }
   },
   "cell_type": "code",
   "source": [
    "print(context_answer_recalls)\n",
    "\n",
    "import matplotlib as mpl\n",
    "import matplotlib.pyplot as plt\n",
    "import numpy as np\n",
    "\n",
    "fig, ax = plt.subplots(figsize=(12, 8))\n",
    "plt.subplots_adjust(hspace=0)\n",
    "\n",
    "#  x axis is the context window size\n",
    "context_windows = [\"2k\", \"4k\", \"8k\", \"16k\", \"32k\"]\n",
    "x_ticks=np.linspace(0, 5, 5)\n",
    "#  y axis is the recall\n",
    "y_ticks=np.linspace(0, 1, 5)\n",
    "colors=[\"r\", \"g\", \"b\", \"c\", \"m\", \"y\", \"k\", \"w\", \"orange\", \"purple\", \"brown\", \"pink\"]\n",
    "markers=[\"o\", \"s\", \"D\", \"^\", \"v\", \"p\", \"*\", \"x\", \"+\", \"1\", \"2\", \"3\"]\n",
    "#  context window recall\n",
    "reference_format=\"chunk-rerank\"\n",
    "y_values = list(context_answer_recalls[:len(context_windows)])\n",
    "ax.plot(x_ticks, y_values, label=reference_format, color=colors[0], marker=markers[0])\n",
    "reference_format=\"chunk-rerank-tree-gen\"\n",
    "for vidx in range(len(versions)):\n",
    "    for fidx in range(2):\n",
    "        version_idx=1+versions.index(version) * 2 + fidx\n",
    "        y_values = list(context_answer_recalls[len(context_windows)*version_idx:len(context_windows)*(version_idx+1)])\n",
    "        ax.plot(x_ticks, y_values, label=f\"{reference_format}-{versions[vidx]}-{['1/2', '2/3'][fidx]}\", color=colors[vidx*2+fidx+1], marker=markers[vidx*2+fidx+1])\n",
    "reference_format=\"chunk-rerank-tree-rerank\"\n",
    "for fidx in range(2):\n",
    "    version_idx=5+ fidx\n",
    "    y_values = list(context_answer_recalls[len(context_windows)*version_idx:len(context_windows)*(version_idx+1)])\n",
    "    ax.plot(x_ticks, y_values, label=f\"{reference_format}-{['1/2', '2/3'][fidx]}\", color=colors[2*fidx+6], marker=markers[2*fidx+6])\n",
    "\n",
    "ax.set_xticks(x_ticks)\n",
    "ax.set_xticklabels(context_windows)\n",
    "ax.set_yticks(y_ticks)\n",
    "ax.set_yticklabels([f\"{y:.2f}\" for y in y_ticks])\n",
    "ax.set_xlabel(\"Context Window Size\")\n",
    "ax.set_ylabel(\"Recall\")\n",
    "ax.legend()\n",
    "# plt.show()\n",
    "plt.tight_layout()\n",
    "plt.savefig(f\"../figures/{dataset}_answer_recall.png\", format=\"png\")\n",
    "# plt.close()"
   ],
   "id": "ec15ce337f556294",
   "outputs": [
    {
     "name": "stdout",
     "output_type": "stream",
     "text": [
      "[0.38930796491090613, 0.47031722566649037, 0.539005530417295, 0.6118528567021214, 0.6516268119135765, 0.47031722566649037, 0.539005530417295, 0.6118528567021214, 0.0, 0.6792339547707195, 0.4403813012967424, 0.5017393937761585, 0.5835720749838397, 0.6404168898911545, 0.6668867325484973, 0.47031722566649037, 0.539005530417295, 0.6118528567021214, 0.6516268119135765, 0.6792339547707195, 0.4403813012967424, 0.5017393937761585, 0.5835720749838397, 0.6404168898911545, 0.6668867325484973, 0.4077801455080866, 0.4976521199388846, 0.581222119383884, 0.6338944886812533, 0.6555904108146755, 0.38596959494753613, 0.4774039861282508, 0.5661239328481975, 0.6303385168752815, 0.6563182801675448, 0.0, 0.0, 0.0, 0.0, 0.0, 0.0, 0.0, 0.0, 0.0, 0.0, 0.0, 0.0, 0.0, 0.0, 0.0, 0.0, 0.0, 0.0, 0.0, 0.0, 0.0, 0.0, 0.0, 0.0, 0.0, 0.0, 0.0, 0.0, 0.0, 0.0, 0.0, 0.0, 0.0, 0.0, 0.0, 0.0, 0.0, 0.0, 0.0, 0.0, 0.0, 0.0, 0.0, 0.0, 0.0, 0.0, 0.0, 0.0, 0.0, 0.0, 0.0, 0.0, 0.0, 0.0, 0.0, 0.0, 0.0, 0.0, 0.0, 0.0, 0.0, 0.0, 0.0, 0.0, 0.0]\n"
     ]
    },
    {
     "data": {
      "text/plain": [
       "<Figure size 1200x800 with 1 Axes>"
      ],
      "image/png": "[encoded data removed]"
     },
     "metadata": {},
     "output_type": "display_data"
    }
   ],
   "execution_count": 82
  },
  {
   "metadata": {
    "ExecuteTime": {
     "end_time": "2024-08-20T05:41:05.669669Z",
     "start_time": "2024-08-20T05:35:19.422783Z"
    }
   },
   "cell_type": "code",
   "source": [
    "#  analyze recall with different depths on 64k context window\n",
    "from tqdm import tqdm\n",
    "import numpy as np\n",
    "\n",
    "print(f\"version: {version}\")\n",
    "rerank_model=\"bgelargeen\"\n",
    "\n",
    "import multiprocessing\n",
    "\n",
    "processes=[]\n",
    "depths=[i for i in range(1, 13)]\n",
    "versions=[\"v0701\", \"v0715\"]\n",
    "depth_recalls=multiprocessing.Manager().list([0.0]*(len(depths)*len(versions)))\n",
    "depth_nums=multiprocessing.Manager().list([0]*(len(depths)*len(versions)))\n",
    "kept_depth_nums=multiprocessing.Manager().list([0]*(len(depths)*len(versions)))\n",
    "\n",
    "def calculate_depth_recall(version):\n",
    "    context_window=\"64k\"\n",
    "    reference_format=\"treegen\"\n",
    "    if reference_format in [\"html-trim\"]:\n",
    "        ref_file = f\"../html_data/{dataset}/{search_engine}/{reference_format}/{search_engine}html-{rewrite_method}-{rerank_model}-{dataset}-{split}-{context_window}.jsonl\"\n",
    "    elif reference_format in [\"treegen\"]:\n",
    "        ref_file = f\"../html_data/{dataset}/treegen/{version}/{search_engine}html-{rewrite_method}-{version}-{dataset}-{split}-{context_window}.jsonl\"\n",
    "    else:\n",
    "        raise NotImplementedError(\"reference_format not found\")\n",
    "    print(f\"ref_file: {ref_file}\")\n",
    "    ref_lines = [json.loads(line) for line in open(ref_file, \"r\")]\n",
    "    \n",
    "    if \"answers\" in ref_lines[0]:\n",
    "        answers = [ref_line['answers'] for ref_line in ref_lines]\n",
    "    elif \"short_answers\" in ref_lines[0]:\n",
    "        answers = [ref_line['short_answers'] for ref_line in ref_lines]\n",
    "    elif \"answer\" in ref_lines[0]:\n",
    "        answers = [ref_line['answer'] for ref_line in ref_lines]\n",
    "    else:\n",
    "        raise NotImplementedError(\"answers not found in ref_lines\")\n",
    "    length_matched_paths=[[] for _ in range(len(depths))]\n",
    "    kept_length_matched_paths=[[] for _ in range(len(depths))]\n",
    "    for idx in tqdm(range(len(ref_lines)), desc=f\"{version}: {context_window}\"):\n",
    "        html=ref_lines[idx][\"html\"]\n",
    "        if reference_format in [\"html-trim\", \"treegen\"]:\n",
    "            html_trim=ref_lines[idx][\"html_trim\"]\n",
    "        elif reference_format in [\"fill-chunk\"]:\n",
    "            html_trim=ref_lines[idx][\"fill-chunk\"]\n",
    "        else:\n",
    "            raise NotImplementedError(\"reference_format not found\")\n",
    "        answer=answers[idx]\n",
    "        \n",
    "        #  split the html into subtrees\n",
    "        soup = bs4.BeautifulSoup(html, 'html.parser')\n",
    "        html_chunk_paths = split_tree(soup)\n",
    "        matched_paths = []\n",
    "        \n",
    "        for path in html_chunk_paths:\n",
    "            if calculate_short_answer_EM(str(path[0]), answer)[\"exact_match\"] > 0.0:\n",
    "                matched_paths.append(path)\n",
    "                \n",
    "        if len(matched_paths) == 0:\n",
    "            continue\n",
    "        else:\n",
    "            #  visit soup trim through matched paths\n",
    "            soup_trim = bs4.BeautifulSoup(html_trim, 'html.parser')\n",
    "            for matched_path in matched_paths:\n",
    "                path = matched_path[1]\n",
    "                depth = min(12, len(path))\n",
    "                length_matched_paths[depth-1].append(matched_path)\n",
    "                tag = soup_trim\n",
    "                for p in path:\n",
    "                    for child in tag.contents:\n",
    "                        if isinstance(child, bs4.element.Tag):\n",
    "                            if child.name == p:\n",
    "                                tag = child\n",
    "                                break\n",
    "                #  check if trace to the end of the path\n",
    "                if tag.name == path[-1]:\n",
    "                    kept_length_matched_paths[depth-1].append(matched_path)\n",
    "                    # print(f\"matched path: {path}\")\n",
    "    version_idx=versions.index(version)\n",
    "    for d in range(len(depths)):\n",
    "        if len(length_matched_paths[d]) == 0:\n",
    "            depth_recalls[d+version_idx*len(depths)]=0.0\n",
    "            depth_nums[d+version_idx*len(depths)]=0\n",
    "            kept_depth_nums[d+version_idx*len(depths)]=0\n",
    "        else:\n",
    "            depth_recalls[d+version_idx*len(depths)]=len(kept_length_matched_paths[d])/len(length_matched_paths[d])\n",
    "            depth_nums[d+version_idx*len(depths)]=len(length_matched_paths[d])\n",
    "            kept_depth_nums[d+version_idx*len(depths)]=len(kept_length_matched_paths[d])\n",
    "    print(f\"version: {version}, depth_recalls: {depth_recalls[version_idx*len(depths):(version_idx+1)*len(depths)]}\")\n",
    "    \n",
    "    \n",
    "for version in versions:\n",
    "    p=multiprocessing.Process(target=calculate_depth_recall, args=(version,))\n",
    "    p.start()\n",
    "    processes.append(p)\n",
    "    \n",
    "for p in processes:\n",
    "    p.join()"
   ],
   "id": "2c503f2c0a06e545",
   "outputs": [
    {
     "name": "stdout",
     "output_type": "stream",
     "text": [
      "version: v0715\n",
      "ref_file: ../html_data/asqa/treegen/v0701/binghtml-slimplmqr-v0701-asqa-test-64k.jsonl\n",
      "ref_file: ../html_data/asqa/treegen/v0715/binghtml-slimplmqr-v0715-asqa-test-64k.jsonl\n"
     ]
    },
    {
     "name": "stderr",
     "output_type": "stream",
     "text": [
      "v0701: 64k: 100%|██████████| 400/400 [05:38<00:00,  1.18it/s]\n"
     ]
    },
    {
     "name": "stdout",
     "output_type": "stream",
     "text": [
      "version: v0701, depth_recalls: [0.9902439024390244, 0.9686411149825784, 0.7028508771929824, 0.45970603142422706, 0.41439946914399467, 0.454283177984909, 0.2683302958082153, 0.23200166458593424, 0.20687418936446172, 0.16323529411764706, 0.1012396694214876, 0.09601449275362318]\n"
     ]
    },
    {
     "name": "stderr",
     "output_type": "stream",
     "text": [
      "v0715: 64k: 100%|██████████| 400/400 [05:39<00:00,  1.18it/s]\n"
     ]
    },
    {
     "name": "stdout",
     "output_type": "stream",
     "text": [
      "version: v0715, depth_recalls: [0.9902439024390244, 0.9976771196283392, 0.7653508771929824, 0.501773948302078, 0.4389515593895156, 0.440745672436751, 0.27015281087901305, 0.24282147315855182, 0.24319066147859922, 0.12867647058823528, 0.09090909090909091, 0.1105072463768116]\n"
     ]
    }
   ],
   "execution_count": 39
  },
  {
   "metadata": {
    "ExecuteTime": {
     "end_time": "2024-08-20T05:41:05.682003Z",
     "start_time": "2024-08-20T05:41:05.672414Z"
    }
   },
   "cell_type": "code",
   "source": [
    "print(depth_recalls)\n",
    "print(depth_nums)\n",
    "print(kept_depth_nums)\n",
    "# [1.0, 0.9838709677419355, 0.6756756756756757, 0.4977168949771689, 0.3355263157894737, 0.24550898203592814, 0.30948419301164726, 0.18529411764705883, 0.1497326203208556, 0.07017543859649122, 0.075, 0.1702127659574468, 1.0, 0.967741935483871, 0.6959459459459459, 0.5159817351598174, 0.2993421052631579, 0.26047904191616766, 0.2795341098169717, 0.22058823529411764, 0.19786096256684493, 0.08333333333333333, 0.075, 0.06382978723404255]\n",
    "# [51, 62, 148, 219, 304, 334, 601, 340, 187, 228, 40, 94, 51, 62, 148, 219, 304, 334, 601, 340, 187, 228, 40, 94]\n",
    "# [51, 61, 100, 109, 102, 82, 186, 63, 28, 16, 3, 16, 51, 60, 103, 113, 91, 87, 168, 75, 37, 19, 3, 6]"
   ],
   "id": "cd52d6c61bd63575",
   "outputs": [
    {
     "name": "stdout",
     "output_type": "stream",
     "text": [
      "[0.9902439024390244, 0.9686411149825784, 0.7028508771929824, 0.45970603142422706, 0.41439946914399467, 0.454283177984909, 0.2683302958082153, 0.23200166458593424, 0.20687418936446172, 0.16323529411764706, 0.1012396694214876, 0.09601449275362318, 0.9902439024390244, 0.9976771196283392, 0.7653508771929824, 0.501773948302078, 0.4389515593895156, 0.440745672436751, 0.27015281087901305, 0.24282147315855182, 0.24319066147859922, 0.12867647058823528, 0.09090909090909091, 0.1105072463768116]\n",
      "[410, 861, 912, 1973, 3014, 4506, 7133, 4806, 3084, 1360, 484, 552, 410, 861, 912, 1973, 3014, 4506, 7133, 4806, 3084, 1360, 484, 552]\n",
      "[406, 834, 641, 907, 1249, 2047, 1914, 1115, 638, 222, 49, 53, 406, 859, 698, 990, 1323, 1986, 1927, 1167, 750, 175, 44, 61]\n"
     ]
    }
   ],
   "execution_count": 40
  },
  {
   "metadata": {
    "ExecuteTime": {
     "end_time": "2024-08-20T06:03:43.991212Z",
     "start_time": "2024-08-20T06:03:43.790409Z"
    }
   },
   "cell_type": "code",
   "source": [
    "import matplotlib as mpl\n",
    "import matplotlib.pyplot as plt\n",
    "import numpy as np\n",
    "\n",
    "fig, ax1 = plt.subplots(1, 1, figsize=(6, 4))\n",
    "x = [i for i in range(1, 13)]\n",
    "x_value = [i for i in range(1, 13)]\n",
    "x_label = [\"0.1\", \"0.2\", \"0.3\", \"0.4\", \"0.5\", \"0.6\", \"0.7\", \"0.8\", \"0.9\", \"1.0\"]\n",
    "ax1.plot(x, depth_recalls[:12], label=\"v0701\", color=\"r\", marker=\"o\")\n",
    "ax1.plot(x, depth_recalls[12:], label=\"v0715\", color=\"b\", marker=\"s\")\n",
    "ax1.set_ylabel(\"Recall\")\n",
    "ax1.set_xlabel(\"Depth\")\n",
    "ax1.legend()\n",
    "\n",
    "plt.tight_layout()\n",
    "plt.savefig(f\"../figures/{dataset}_depth_recall.png\", format=\"png\")"
   ],
   "id": "125bf723b048457e",
   "outputs": [
    {
     "data": {
      "text/plain": [
       "<Figure size 600x400 with 1 Axes>"
      ],
      "image/png": "[encoded data removed]"
     },
     "metadata": {},
     "output_type": "display_data"
    }
   ],
   "execution_count": 41
  },
  {
   "metadata": {},
   "cell_type": "code",
   "outputs": [],
   "execution_count": null,
   "source": [
    "#  draw the curve for depth recall, and bar for the number of matched paths and kept matched paths\n",
    "import matplotlib as mpl\n",
    "import matplotlib.pyplot as plt\n",
    "import numpy as np\n",
    "\n",
    "fig, ax1 = plt.subplots(1, 1, figsize=(6, 4))\n",
    "x = [i for i in range(1, 13)]\n",
    "x_value = [i for i in range(1, 13)]\n",
    "x_label = [\"0.1\", \"0.2\", \"0.3\", \"0.4\", \"0.5\", \"0.6\", \"0.7\", \"0.8\", \"0.9\", \"1.0\"]\n",
    "ax1.plot(x, depth_recalls, label=\"v0701\", color=\"r\", marker=\"o\")\n",
    "ax1.set_ylabel(\"Recall\")\n",
    "ax1.set_xlabel(\"Depth\")\n",
    "ax1.legend()\n",
    "\n",
    "ax2 = ax1.twinx()\n",
    "ax2.bar(x, depth_nums, label=\"matched paths\", color=\"b\", alpha=0.8)"
   ],
   "id": "1b0e7f59ebf0a6f7"
  },
  {
   "metadata": {
    "ExecuteTime": {
     "end_time": "2024-08-04T03:36:58.275531Z",
     "start_time": "2024-08-04T03:36:58.268465Z"
    }
   },
   "cell_type": "code",
   "source": [
    "ridx=0\n",
    "print(ref_lines[ridx].keys())\n",
    "# dict_keys(['qa_pairs', 'wikipages', 'annotations', 'id', 'question', 'answer', 'short_answers', 'long_answers', 'slimplmqr_rewrite', 'slimplmqr_results', 'page_contents', 'metadatas', 'html_trim'])\n",
    "print(ref_lines[ridx][\"page_contents\"][0], ref_lines[ridx][\"metadatas\"][0])\n",
    "print(ref_lines[ridx][\"page_contents\"][1], ref_lines[ridx][\"metadatas\"][1])\n",
    "print(ref_lines[ridx][\"page_contents\"][2], ref_lines[ridx][\"metadatas\"][2])\n",
    "print(ref_lines[ridx][\"page_contents\"][-1], ref_lines[ridx][\"metadatas\"][-1])"
   ],
   "id": "d10a6ef48c76ce51",
   "outputs": [
    {
     "name": "stdout",
     "output_type": "stream",
     "text": [
      "dict_keys(['id', 'paragraphs', 'question_decomposition', 'answer', 'answer_aliases', 'answerable', 'question', 'slimplmqr_rewrite', 'slimplmqr_results', 'page_contents', 'metadatas', 'html_trim'])\n",
      "sport.wikisort.org - Stadium \n",
      " Search  /  Calendar \n",
      " \n",
      " Ciudad Deportiva  was Real Madrid's former training complex located on the Paseo de la Castellana in  Madrid , Spain. \n",
      " Former sports venue in Spain \n",
      " This article  does not cite any sources .   ( June 2019 ) {'Header 1': '#TITLE#', 'html_index': 3, 'chunk_index': 16}\n",
      "ciudad   deportiva   noun, feminine — {'Header 2': 'ciudad deportiva noun,\\xa0feminine—', 'html_index': 2, 'chunk_index': 9}\n",
      "Controversy \n",
      " By the end of the 20th century the land surrounding the Ciudad Deportiva was no longer on the outskirts of Madrid, but had become a transportation hub with the north of the city and a financial area. Its location along the Castellana further increased the land's value. With Real Madrid's debts mounting in the late 1990s, plans to re-zone and commercially develop the land were mooted several times, but it wasn't until the presidency of Florentino Pérez that these plans came to fruition. \n",
      " Although commonly believed to be a direct transaction in which Real Madrid sold the land to the Madrid city council, this is not in fact what happened. In 2000 there was a motion proposed, voted on, and approved in the Madrid parliament to re-zone the area of the Ciudad Deportiva, which until then was zoned for non-commercial purposes. In this vote, the Partido Popular (People's Party) voted in favor, while the Spanish Socialist Workers' Party (PSOE) voted against. \n",
      " The agreement between Real Madrid and the local government stipulated that in exchange for re-zoning the land Real Madrid would cede a portion of the land to the Government. Then, in public project bids, both Real Madrid and the Government sold their portions to four corporations, Repsol YPF,  Mutua Automovilística de Madrid , Sacyr Vallehermoso and Obrascón Huarte Lain (OHL), for which Real Madrid earned an estimated 480 million euros. These four corporations were, as of August 2006, constructing four skyscrapers on the site which would become their headquarters as part of the Cuatro Torres Business Area. The government also gained land which they sold in public bidding, and a large amount of greenspace.  \n",
      " Although unnamed clubs requested that the European Union investigate the transaction, the EU found no wrongdoing or evidence of state subsidies. {'Header 4': 'Controversy', 'html_index': 3, 'chunk_index': 18}\n",
      "Students also viewed \n",
      " \n",
      " FAR PW Notes - A qualification reviewer \n",
      " ACC 101-07 - fbfgm/l/.kjhnbvsavb \n",
      " ACC 101 - Module 3 - FAR 1 \n",
      " ACC 101 - Module 2 - FAR 1 \n",
      " ACC 101 - Module 4 - FAR 1 \n",
      " ACC 101 - Module 7 - FAR 1 {'Header 3': 'Students also viewed', 'html_index': 6, 'chunk_index': 102}\n"
     ]
    }
   ],
   "execution_count": 198
  },
  {
   "metadata": {
    "ExecuteTime": {
     "end_time": "2024-08-04T05:30:01.370392Z",
     "start_time": "2024-08-04T05:30:01.355670Z"
    }
   },
   "cell_type": "code",
   "source": [
    "soup=bs4.BeautifulSoup(ref_lines[ridx][\"html_trim\"][3], 'html.parser')\n",
    "for h in soup.find_all([\"h1\", \"h2\", \"h3\", \"h4\"]):\n",
    "    # print(h.get_text())\n",
    "    if h.get_text().strip() == \"Controversy\":\n",
    "        print(h)"
   ],
   "id": "68f3047a71eb7c76",
   "outputs": [
    {
     "name": "stdout",
     "output_type": "stream",
     "text": [
      "Real Madrid\n",
      "Controversy\n",
      "<h4>Controversy</h4>\n",
      "Ciudad del Madrid\n"
     ]
    }
   ],
   "execution_count": 204
  },
  {
   "metadata": {
    "ExecuteTime": {
     "end_time": "2024-08-04T03:48:29.669689Z",
     "start_time": "2024-08-04T03:48:29.663467Z"
    }
   },
   "cell_type": "code",
   "source": "soup.body.get_text().split()[0]",
   "id": "8202cfcc55532fc5",
   "outputs": [
    {
     "data": {
      "text/plain": [
       "'sport.wikisort.org'"
      ]
     },
     "execution_count": 203,
     "metadata": {},
     "output_type": "execute_result"
    }
   ],
   "execution_count": 203
  },
  {
   "metadata": {
    "ExecuteTime": {
     "end_time": "2024-08-02T09:26:20.778988Z",
     "start_time": "2024-08-02T09:26:20.774541Z"
    }
   },
   "cell_type": "code",
   "source": [
    "print(len(ref_lines[ridx][\"html_trim\"]))\n",
    "print(len(ref_lines[ridx][\"slimplmqr_results\"]))"
   ],
   "id": "2fdcff6c3fe87e7e",
   "outputs": [
    {
     "name": "stdout",
     "output_type": "stream",
     "text": [
      "35\n",
      "35\n"
     ]
    }
   ],
   "execution_count": 153
  },
  {
   "metadata": {
    "ExecuteTime": {
     "end_time": "2024-08-16T09:39:39.456609Z",
     "start_time": "2024-08-16T09:29:52.037339Z"
    }
   },
   "cell_type": "code",
   "source": [
    "#  repair the html index\n",
    "split = \"test\"\n",
    "rewrite_method = \"slimplmqr\"\n",
    "version=\"v0715\"\n",
    "search_engine=\"bing\"\n",
    "chat_tokenizer=\"llama\"\n",
    "\n",
    "def repair_html_index(dataset, context_window):\n",
    "    reference_format=\"html-trim\"\n",
    "    ref_file = f\"../html_data/{dataset}/{search_engine}/{reference_format}/{chat_tokenizer}/{search_engine}html-{rewrite_method}-{rerank_model}-{dataset}-{split}-{context_window}.jsonl\"\n",
    "    # print(f\"ref_file: {ref_file}\")\n",
    "    ref_lines = [json.loads(line) for line in open(ref_file, \"r\")]\n",
    "    #  repair html index\n",
    "    for idx, data_line in tqdm(enumerate(ref_lines), total=len(ref_lines), desc=f\"{dataset}-{context_window}\"):\n",
    "        docs = []\n",
    "        html = [clean_xml(d['html']) for d in ref_lines[idx][f'{rewrite_method}_results']]\n",
    "        html = [h for h in html if h.strip()]\n",
    "        assert len(html) == len(ref_lines[idx][f'html_trim']) or len(ref_lines[idx][f'html_trim']) == 1\n",
    "        html_indexes = []\n",
    "        for idh, h in enumerate(html):\n",
    "            splits = html_splitter.split_text(h)\n",
    "            html_indexes.extend([idh] * len(splits))\n",
    "            docs.extend(splits)\n",
    "            \n",
    "        #  sort the docs by chunk index\n",
    "        metadatas=data_line[\"metadatas\"]\n",
    "        metadatas = sorted(metadatas, key=lambda x: (x[\"chunk_index\"]))\n",
    "        assert len(docs) == len(metadatas)\n",
    "        for idx in range(len(docs)):\n",
    "            metadatas[idx][\"html_index\"]=html_indexes[idx]\n",
    "            \n",
    "    #  save the repaired html index\n",
    "    with open(ref_file, \"w\") as f:\n",
    "        for line in ref_lines:\n",
    "            f.write(json.dumps(line, ensure_ascii=False) + \"\\n\")\n",
    "            \n",
    "import multiprocessing\n",
    "processes=[]\n",
    "context_windows=[\"2k\", \"4k\", \"8k\", \"16k\", \"32k\", \"64k\"]\n",
    "datasets=[\"asqa\", \"nq\", \"hotpot-qa\", \"trivia-qa\", \"musique\"]\n",
    "for dataset in datasets:\n",
    "    for context_window in context_windows:\n",
    "        p=multiprocessing.Process(target=repair_html_index, args=(dataset, context_window))\n",
    "        p.start()\n",
    "        processes.append(p)\n",
    "        \n",
    "for p in processes:\n",
    "    p.join()\n",
    "print(\"done\")"
   ],
   "id": "db39242c44e5004",
   "outputs": [
    {
     "name": "stderr",
     "output_type": "stream",
     "text": [
      "trivia-qa-2k: 100%|██████████| 400/400 [05:19<00:00,  1.25it/s]]\n",
      "trivia-qa-32k: 100%|██████████| 400/400 [05:24<00:00,  1.23it/s]\n",
      "trivia-qa-8k: 100%|██████████| 400/400 [05:27<00:00,  1.22it/s]]\n",
      "trivia-qa-4k: 100%|██████████| 400/400 [05:31<00:00,  1.21it/s]]\n",
      "trivia-qa-64k: 100%|██████████| 400/400 [05:31<00:00,  1.21it/s]\n",
      "trivia-qa-16k: 100%|██████████| 400/400 [05:31<00:00,  1.21it/s]\n",
      "nq-8k: 100%|██████████| 400/400 [06:52<00:00,  1.03s/it].04s/it]\n",
      "nq-2k: 100%|██████████| 400/400 [07:03<00:00,  1.06s/it]]s/it]s]\n",
      "nq-4k: 100%|██████████| 400/400 [07:07<00:00,  1.07s/it].10it/s]\n",
      "nq-32k: 100%|██████████| 400/400 [07:04<00:00,  1.06s/it]1it/s]]\n",
      "nq-16k: 100%|██████████| 400/400 [07:09<00:00,  1.07s/it]s/it]s]\n",
      "nq-64k: 100%|██████████| 400/400 [07:10<00:00,  1.08s/it]s/it]t]\n",
      "asqa-32k: 100%|██████████| 400/400 [07:27<00:00,  1.12s/it]it]t]\n",
      "asqa-64k: 100%|██████████| 400/400 [07:28<00:00,  1.12s/it]it]]]\n",
      "hotpot-qa-8k: 100%|██████████| 400/400 [07:26<00:00,  1.12s/it]]\n",
      "asqa-4k: 100%|██████████| 400/400 [07:32<00:00,  1.55it/s]/it]t]\n",
      "asqa-4k: 100%|██████████| 400/400 [07:32<00:00,  1.13s/it]\n",
      "hotpot-qa-32k: 100%|██████████| 400/400 [07:30<00:00,  1.13s/it]\n",
      "asqa-2k: 100%|██████████| 400/400 [07:33<00:00,  1.13s/it]/it]]]\n",
      "asqa-16k: 100%|██████████| 400/400 [07:33<00:00,  1.13s/it]t]\n",
      "hotpot-qa-16k: 100%|██████████| 400/400 [07:28<00:00,  1.12s/it]\n",
      "hotpot-qa-2k: 100%|██████████| 400/400 [07:34<00:00,  1.14s/it]\n",
      "hotpot-qa-4k: 100%|██████████| 400/400 [07:32<00:00,  1.13s/it]]\n",
      "hotpot-qa-64k: 100%|██████████| 400/400 [07:31<00:00,  1.13s/it]\n",
      "musique-4k: 100%|██████████| 400/400 [09:24<00:00,  1.41s/it]]\n",
      "musique-8k: 100%|██████████| 400/400 [09:25<00:00,  1.41s/it]]\n",
      "musique-32k: 100%|██████████| 400/400 [09:30<00:00,  1.43s/it]\n",
      "musique-16k: 100%|██████████| 400/400 [09:31<00:00,  1.43s/it]\n",
      "musique-64k: 100%|██████████| 400/400 [09:30<00:00,  1.43s/it]\n",
      "musique-2k: 100%|██████████| 400/400 [09:34<00:00,  1.44s/it]\n"
     ]
    },
    {
     "name": "stdout",
     "output_type": "stream",
     "text": [
      "done\n"
     ]
    }
   ],
   "execution_count": 34
  },
  {
   "metadata": {},
   "cell_type": "code",
   "outputs": [],
   "execution_count": null,
   "source": "",
   "id": "2d835ab982267faf"
  },
  {
   "metadata": {
    "ExecuteTime": {
     "end_time": "2024-08-16T09:39:57.751960Z",
     "start_time": "2024-08-16T09:39:57.168417Z"
    }
   },
   "cell_type": "code",
   "source": [
    "from transformers import AutoModel\n",
    "from transformers import AutoTokenizer\n",
    "\n",
    "# model=AutoModel.from_pretrained(\"../../../huggingface/Meta-Llama-3.1-70B-Instruct\", trust_remote_code=True)\n",
    "tokenizer=AutoTokenizer.from_pretrained(\"../../../huggingface/Meta-Llama-3.1-70B-Instruct\",trust_remote_code=True)"
   ],
   "id": "d587fb10db23d8d0",
   "outputs": [],
   "execution_count": 35
  },
  {
   "metadata": {
    "ExecuteTime": {
     "end_time": "2024-08-09T05:45:23.929993Z",
     "start_time": "2024-08-09T05:45:23.529984Z"
    }
   },
   "cell_type": "code",
   "source": [
    "import requests\n",
    "from requests.adapters import HTTPAdapter\n",
    "from urllib3 import Retry\n",
    "\n",
    "# <|begin_of_text|><|start_header_id|>system<|end_header_id|>\n",
    "# \n",
    "# Environment: ipython\n",
    "# Tools: brave_search, wolfram_alpha\n",
    "# \n",
    "# Cutting Knowledge Date: December 2023\n",
    "# Today Date: 23 Jul 2024\n",
    "# \n",
    "# You are a helpful assistant.<|eot_id|><|start_header_id|>user<|end_header_id|>\n",
    "# \n",
    "# Can you help me solve this equation: x^3 - 4x^2 + 6x - 24 = 0<|eot_id|><|start_header_id|>assistant<|end_header_id|>\n",
    "\n",
    "def vllm_api_call(url, prompt, repetition_penalty=-1, temperature=-1, top_k=-1, top_p=-1,\n",
    "                  max_new_tokens=-1, do_sample=True, seed=None):\n",
    "    retry_strategy = Retry(\n",
    "        total=1,  # 最大重试次数（包括首次请求）\n",
    "        backoff_factor=1,  # 重试之间的等待时间因子\n",
    "        status_forcelist=[429, 500, 502, 503, 504],  # 需要重试的状态码列表\n",
    "        allowed_methods=[\"POST\"]  # 只对POST请求进行重试\n",
    "    )\n",
    "    adapter = HTTPAdapter(max_retries=retry_strategy)\n",
    "    # 创建会话并添加重试逻辑\n",
    "    session = requests.Session()\n",
    "    session.mount(\"https://\", adapter)\n",
    "    session.mount(\"http://\", adapter)\n",
    "    request_data = {\n",
    "        'prompt': prompt,\n",
    "        \"repetition_penalty\": repetition_penalty,\n",
    "        \"temperature\": temperature,\n",
    "        \"max_tokens\": max_new_tokens,\n",
    "    }\n",
    "    if seed != None:\n",
    "        request_data['seed'] = seed\n",
    "    if top_p != -1 and top_p != None:\n",
    "        request_data[\"top_p\"] = top_p\n",
    "    if top_k != -1 and top_k != None:\n",
    "        request_data[\"top_k\"] = top_k\n",
    "    response = session.post(url, json=request_data)\n",
    "    data = json.loads(response.text)\n",
    "    ans = data[\"text\"][0][len(prompt):].strip()\n",
    "    return ans\n",
    "\n",
    "pre_text = \"<|begin_of_text|><|start_header_id|>system<|end_header_id|>\\nYou are a helpful assistant.<|eot_id|><|start_header_id|>user<|end_header_id|>\\n\\n\"\n",
    "post_text = \"<|eot_id|><|start_header_id|>assistant<|end_header_id|>\"\n",
    "vllm_api_call(\"http://172.16.0.17:8000/generate\", f\"{pre_text}What is the capital of France?{post_text}\", repetition_penalty=1.05, temperature=0.3, top_k=5, top_p=0.85,\n",
    "                                 max_new_tokens=1024, do_sample=True, seed=3)"
   ],
   "id": "6dbde121dd5ff6fc",
   "outputs": [
    {
     "data": {
      "text/plain": [
       "'The capital of France is Paris.'"
      ]
     },
     "execution_count": 34,
     "metadata": {},
     "output_type": "execute_result"
    }
   ],
   "execution_count": 34
  },
  {
   "metadata": {
    "ExecuteTime": {
     "end_time": "2024-08-10T09:11:07.393843Z",
     "start_time": "2024-08-10T09:11:04.753142Z"
    }
   },
   "cell_type": "code",
   "source": [
    "file_name=\"../html_data/asqa/llama70b32k/bing/llama70b32k-html-trim-slimplmqr-bgelargeen-asqa-test.jsonl\"\n",
    "import json\n",
    "lines = [json.loads(line) for line in open(file_name, \"r\")]"
   ],
   "id": "77f2c625bbaca731",
   "outputs": [],
   "execution_count": 9
  },
  {
   "metadata": {
    "ExecuteTime": {
     "end_time": "2024-08-10T09:11:21.147656Z",
     "start_time": "2024-08-10T09:11:21.143358Z"
    }
   },
   "cell_type": "code",
   "source": [
    "idx=118\n",
    "print(lines[idx].keys())\n",
    "# dict_keys(['id', 'output', 'question', 'answer', 'slimplmqr_rewrite', 'slimplmqr_results', 'page_contents', 'metadatas', 'html_trim', 'llama70b8k_html-trim'])\n",
    "print(lines[idx][\"llama70b32k_html-trim\"])\n"
   ],
   "id": "c19cf7ac4fe9fe2",
   "outputs": [
    {
     "name": "stdout",
     "output_type": "stream",
     "text": [
      "dict_keys(['qa_pairs', 'wikipages', 'annotations', 'id', 'question', 'answer', 'short_answers', 'long_answers', 'slimplmqr_rewrite', 'slimplmqr_results', 'page_contents', 'metadatas', 'html_trim', 'llama70b32k_html-trim'])\n",
      "According to the provided HTML content, the character of Alan Turner's son, Terence Turner, was not explicitly mentioned to be played by a specific actor. However, it is mentioned that Terence was introduced in 1985 and returned to the village in 2006.\n"
     ]
    }
   ],
   "execution_count": 11
  },
  {
   "metadata": {
    "ExecuteTime": {
     "end_time": "2024-08-18T09:24:03.372010Z",
     "start_time": "2024-08-18T09:24:03.368629Z"
    }
   },
   "cell_type": "code",
   "source": "",
   "id": "129e81b6bac625a2",
   "outputs": [],
   "execution_count": 66
  },
  {
   "metadata": {},
   "cell_type": "code",
   "outputs": [],
   "execution_count": null,
   "source": "",
   "id": "365aa7ad03f2b01c"
  }
 ],
 "metadata": {
  "kernelspec": {
   "display_name": "Python 3",
   "language": "python",
   "name": "python3"
  },
  "language_info": {
   "codemirror_mode": {
    "name": "ipython",
    "version": 2
   },
   "file_extension": ".py",
   "mimetype": "text/x-python",
   "name": "python",
   "nbconvert_exporter": "python",
   "pygments_lexer": "ipython2",
   "version": "2.7.6"
  }
 },
 "nbformat": 4,
 "nbformat_minor": 5
}
